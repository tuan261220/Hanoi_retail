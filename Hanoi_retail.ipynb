{
 "cells": [
  {
   "cell_type": "markdown",
   "id": "82618325",
   "metadata": {},
   "source": [
    "# Dự báo bán của hà nội theo từng sản phẩm theo tuần \n",
    "#### Amazon Forecast API \n",
    "---\n",
    "Các bước thực hiện của Amazon Forecast như sau:\n",
    "\n",
    "1. Tạo một **Dataset Group**.\n",
    "2. Tạo **Dataset** để dự báo Có 3 loại dataset là *Target Time Series*, *Related Time Series* và *Item Metadata*.*Target Time* là bắt buộc.\n",
    "3. **Import data**, đây là bước nhập tập dữ liệu được lấy từ S3 để xử lý và  dự báo.\n",
    "4. **Train Model**, đây là bước xác định các giá trị hiệu quả nhất của dữ liệu .\n",
    "5. **Deploy a Predictor**, đây là bước để triển khai mô hình để chạy dự báo.\n",
    "6. **Query the Forecast**, đưa ra dự báo của một id bất kỳ trong một khoảng thời gian và xem kết quả của mô hình\n",
    "\n",
    "## Table Of Contents\n",
    "* **Các bước chuẩn bị**\n",
    "    * Cài đặt\n",
    "    * Xử lý Dữ liệu\n",
    "    * Tạo Dataset Group và Dataset\n",
    "* **Xây dựng mô hình dự báo**\n",
    "    * Tạo mô hình\n",
    "    * Triển khai mô hình\n",
    "* **Kiểm tra mô hình dự báo**\n",
    "    * Xuất dữ liệu\n",
    "    * Kiểm tra kết quả phỏng đoán\n",
    "    * So sánh dữ liệu phỏng đoán với dữ liệu\n",
    "Nếu muốn biết thêm về Amazon Forecast đọc thêm [documentation](https://docs.aws.amazon.com/forecast/latest/dg/what-is-forecast.html)"
   ]
  },
  {
   "cell_type": "markdown",
   "id": "ddfa3bed",
   "metadata": {},
   "source": [
    "# Các bước chuẩn bị\n",
    "---\n",
    "# IAM role and authorizations\n",
    "Đảm bảo Sage Maker được cấp quyền các quyền sử dụng sau\n",
    "* IAMFullAccess\n",
    "* AmazonForecastFullAccess\n",
    "* AmazonS3FullAccess\n",
    "* AmazonSageMakerFullAccess\n",
    "\n",
    "Bạn có thể vào IAM Console và kiểm tra quyền của SageMaker được cấp quyền như sau :\n",
    "\n",
    "![Dataset](picture/roles.png)\n",
    "\n",
    "và kiểm tra liên kết \n",
    "\n",
    "![Dataset](picture/relationship.png)\n"
   ]
  },
  {
   "cell_type": "markdown",
   "id": "6d3507a2",
   "metadata": {},
   "source": [
    "# Cài đặt\n",
    "\n",
    "Thêm vào một số thư viên tiêu chuẩn để sử dụng cho notebook này"
   ]
  },
  {
   "cell_type": "code",
   "execution_count": 94,
   "id": "1ba642da",
   "metadata": {},
   "outputs": [],
   "source": [
    "import boto3\n",
    "import botocore.exceptions\n",
    "import dateutil.parser\n",
    "import json\n",
    "import matplotlib.pyplot as plt\n",
    "import numpy as np\n",
    "import os\n",
    "import pandas as pd\n",
    "import sagemaker\n",
    "import sys\n",
    "import time\n",
    "\n",
    "from datetime import datetime\n",
    "from sagemaker import get_execution_role\n",
    "\n",
    "%matplotlib inline\n",
    "plt.style.use('Solarize_Light2')\n",
    "prop_cycle = plt.rcParams['axes.prop_cycle']\n",
    "colors = prop_cycle.by_key()['color']"
   ]
  },
  {
   "cell_type": "markdown",
   "id": "5cab970e",
   "metadata": {},
   "source": [
    "Trước tiên chúng ta phải chỉnh S3 bucket name và tên vùng cho notebook:\n",
    "* Nếu chưa có S3 bucket, tạo S3 và  đảm bảo được liên kết với notebook\n",
    "* Chọn vùng : eu-west-1 là cố định"
   ]
  },
  {
   "cell_type": "code",
   "execution_count": 27,
   "id": "c9ea07d3",
   "metadata": {},
   "outputs": [],
   "source": [
    "BUCKET = sagemaker.Session().default_bucket()\n",
    "PREFIX = 'Hanoi_retail'\n",
    "region = 'eu-west-1'\n",
    "\n",
    "session = boto3.Session(region_name=region) \n",
    "forecast = session.client(service_name='forecast') \n",
    "forecastquery = session.client(service_name='forecastquery')\n",
    "role = get_execution_role()"
   ]
  },
  {
   "cell_type": "code",
   "execution_count": 28,
   "id": "f57d104e",
   "metadata": {},
   "outputs": [],
   "source": [
    "# Paths to local data:\n",
    "DATA = 'data'\n",
    "PROCESSED_DATA = 'data/processed'\n",
    "\n",
    "os.makedirs(PROCESSED_DATA, exist_ok=True)"
   ]
  },
  {
   "cell_type": "markdown",
   "id": "f6425b4b",
   "metadata": {},
   "source": [
    "# Xử lý dữ liệu\n",
    "Đầu tiên sử dụng Pandas để đọc file CSV, lưu vào hourly_df để đọc và chuẩn bị để đưa vào dự báo và xuất ra màn hình một số dữ liệu"
   ]
  },
  {
   "cell_type": "code",
   "execution_count": 29,
   "id": "9719a369",
   "metadata": {},
   "outputs": [
    {
     "data": {
      "text/html": [
       "<div>\n",
       "<style scoped>\n",
       "    .dataframe tbody tr th:only-of-type {\n",
       "        vertical-align: middle;\n",
       "    }\n",
       "\n",
       "    .dataframe tbody tr th {\n",
       "        vertical-align: top;\n",
       "    }\n",
       "\n",
       "    .dataframe thead th {\n",
       "        text-align: right;\n",
       "    }\n",
       "</style>\n",
       "<table border=\"1\" class=\"dataframe\">\n",
       "  <thead>\n",
       "    <tr style=\"text-align: right;\">\n",
       "      <th></th>\n",
       "      <th>timestamp</th>\n",
       "      <th>item_id</th>\n",
       "      <th>qty</th>\n",
       "    </tr>\n",
       "  </thead>\n",
       "  <tbody>\n",
       "    <tr>\n",
       "      <th>0</th>\n",
       "      <td>2019-01-01</td>\n",
       "      <td>271554</td>\n",
       "      <td>2</td>\n",
       "    </tr>\n",
       "    <tr>\n",
       "      <th>1</th>\n",
       "      <td>2019-01-01</td>\n",
       "      <td>495366</td>\n",
       "      <td>1</td>\n",
       "    </tr>\n",
       "    <tr>\n",
       "      <th>2</th>\n",
       "      <td>2019-01-02</td>\n",
       "      <td>495360</td>\n",
       "      <td>1</td>\n",
       "    </tr>\n",
       "    <tr>\n",
       "      <th>3</th>\n",
       "      <td>2019-01-03</td>\n",
       "      <td>525764</td>\n",
       "      <td>165</td>\n",
       "    </tr>\n",
       "    <tr>\n",
       "      <th>4</th>\n",
       "      <td>2019-01-05</td>\n",
       "      <td>517242</td>\n",
       "      <td>1</td>\n",
       "    </tr>\n",
       "  </tbody>\n",
       "</table>\n",
       "</div>"
      ],
      "text/plain": [
       "   timestamp  item_id  qty\n",
       "0 2019-01-01   271554    2\n",
       "1 2019-01-01   495366    1\n",
       "2 2019-01-02   495360    1\n",
       "3 2019-01-03   525764  165\n",
       "4 2019-01-05   517242    1"
      ]
     },
     "execution_count": 29,
     "metadata": {},
     "output_type": "execute_result"
    }
   ],
   "source": [
    "hourly_df = pd.read_csv(os.path.join(DATA, 'forecast.csv'), header=None, parse_dates=[0])\n",
    "hourly_df.columns = ['timestamp','item_id','qty']\n",
    "hourly_df.head()"
   ]
  },
  {
   "cell_type": "markdown",
   "id": "4b20ed5a",
   "metadata": {},
   "source": [
    "Dữ liệu đưa vào phải đảm bảo đủ 3 yêu cầu của Amazon Forecast\n",
    "1. The Timestamp (timestamp)\n",
    "2. A Value (qty)\n",
    "3. An item (item_id)"
   ]
  },
  {
   "cell_type": "code",
   "execution_count": 30,
   "id": "b0cdb044",
   "metadata": {},
   "outputs": [
    {
     "name": "stdout",
     "output_type": "stream",
     "text": [
      "2019-01-01 00:00:00\n",
      "2019-12-31 00:00:00\n"
     ]
    }
   ],
   "source": [
    "print(np.min(hourly_df['timestamp']))\n",
    "print(np.max(hourly_df['timestamp']))"
   ]
  },
  {
   "cell_type": "markdown",
   "id": "c1eda0cb",
   "metadata": {},
   "source": [
    "Dự liệu xét từ ngày 1 tháng 1 năm 2019 đến ngày 31 tháng 12 năm 2019.Ta cắt ra xét từ ngày 1 tháng 1 đến 28 tháng 7 làm bộ để huấn luyện.\n",
    "\n",
    "* Training test: 01-01-2019\n",
    "* Training end : 28-07-2019\n",
    "* Testing start : 29-07-2019\n",
    "* Testing end : 31-12-2019\n",
    "\n",
    "Lưu dữ liệu vào hai file csv để dự báo"
   ]
  },
  {
   "cell_type": "code",
   "execution_count": 31,
   "id": "6d7af413",
   "metadata": {},
   "outputs": [],
   "source": [
    "training_start = pd.to_datetime('2019-01-01')\n",
    "training_end   = pd.to_datetime('2019-07-28')\n",
    "testing_start  = pd.to_datetime('2019-07-29')\n",
    "testing_end    = pd.to_datetime('2019-12-31')"
   ]
  },
  {
   "cell_type": "code",
   "execution_count": 32,
   "id": "5c39820b",
   "metadata": {},
   "outputs": [
    {
     "data": {
      "text/html": [
       "<div>\n",
       "<style scoped>\n",
       "    .dataframe tbody tr th:only-of-type {\n",
       "        vertical-align: middle;\n",
       "    }\n",
       "\n",
       "    .dataframe tbody tr th {\n",
       "        vertical-align: top;\n",
       "    }\n",
       "\n",
       "    .dataframe thead th {\n",
       "        text-align: right;\n",
       "    }\n",
       "</style>\n",
       "<table border=\"1\" class=\"dataframe\">\n",
       "  <thead>\n",
       "    <tr style=\"text-align: right;\">\n",
       "      <th></th>\n",
       "      <th>timestamp</th>\n",
       "      <th>item_id</th>\n",
       "      <th>qty</th>\n",
       "    </tr>\n",
       "  </thead>\n",
       "  <tbody>\n",
       "    <tr>\n",
       "      <th>0</th>\n",
       "      <td>2019-01-01</td>\n",
       "      <td>271554</td>\n",
       "      <td>2</td>\n",
       "    </tr>\n",
       "    <tr>\n",
       "      <th>1</th>\n",
       "      <td>2019-01-01</td>\n",
       "      <td>495366</td>\n",
       "      <td>1</td>\n",
       "    </tr>\n",
       "    <tr>\n",
       "      <th>2</th>\n",
       "      <td>2019-01-02</td>\n",
       "      <td>495360</td>\n",
       "      <td>1</td>\n",
       "    </tr>\n",
       "    <tr>\n",
       "      <th>3</th>\n",
       "      <td>2019-01-03</td>\n",
       "      <td>525764</td>\n",
       "      <td>165</td>\n",
       "    </tr>\n",
       "    <tr>\n",
       "      <th>4</th>\n",
       "      <td>2019-01-05</td>\n",
       "      <td>517242</td>\n",
       "      <td>1</td>\n",
       "    </tr>\n",
       "    <tr>\n",
       "      <th>...</th>\n",
       "      <td>...</td>\n",
       "      <td>...</td>\n",
       "      <td>...</td>\n",
       "    </tr>\n",
       "    <tr>\n",
       "      <th>15013</th>\n",
       "      <td>2019-12-15</td>\n",
       "      <td>271554</td>\n",
       "      <td>1</td>\n",
       "    </tr>\n",
       "    <tr>\n",
       "      <th>15014</th>\n",
       "      <td>2019-12-17</td>\n",
       "      <td>395581</td>\n",
       "      <td>1</td>\n",
       "    </tr>\n",
       "    <tr>\n",
       "      <th>15015</th>\n",
       "      <td>2019-12-24</td>\n",
       "      <td>271554</td>\n",
       "      <td>1</td>\n",
       "    </tr>\n",
       "    <tr>\n",
       "      <th>15016</th>\n",
       "      <td>2019-12-25</td>\n",
       "      <td>269765</td>\n",
       "      <td>1</td>\n",
       "    </tr>\n",
       "    <tr>\n",
       "      <th>15017</th>\n",
       "      <td>2019-12-27</td>\n",
       "      <td>495366</td>\n",
       "      <td>1</td>\n",
       "    </tr>\n",
       "  </tbody>\n",
       "</table>\n",
       "<p>15018 rows × 3 columns</p>\n",
       "</div>"
      ],
      "text/plain": [
       "       timestamp  item_id  qty\n",
       "0     2019-01-01   271554    2\n",
       "1     2019-01-01   495366    1\n",
       "2     2019-01-02   495360    1\n",
       "3     2019-01-03   525764  165\n",
       "4     2019-01-05   517242    1\n",
       "...          ...      ...  ...\n",
       "15013 2019-12-15   271554    1\n",
       "15014 2019-12-17   395581    1\n",
       "15015 2019-12-24   271554    1\n",
       "15016 2019-12-25   269765    1\n",
       "15017 2019-12-27   495366    1\n",
       "\n",
       "[15018 rows x 3 columns]"
      ]
     },
     "execution_count": 32,
     "metadata": {},
     "output_type": "execute_result"
    }
   ],
   "source": [
    "hourly_df"
   ]
  },
  {
   "cell_type": "code",
   "execution_count": 33,
   "id": "56a273d5",
   "metadata": {},
   "outputs": [],
   "source": [
    "training_df = hourly_df[(hourly_df['timestamp'] >=training_start) & (hourly_df['timestamp'] < training_end)]\n",
    "testing_df= hourly_df[(hourly_df['timestamp'] >=testing_start) & (hourly_df['timestamp'] < testing_end)]"
   ]
  },
  {
   "cell_type": "code",
   "execution_count": 34,
   "id": "33e8c518",
   "metadata": {},
   "outputs": [],
   "source": [
    "training_df.to_csv(f\"{PROCESSED_DATA}/train.csv\", header=False, index=False)\n",
    "testing_df.to_csv(f\"{PROCESSED_DATA}/test.csv\", header=False, index=False)"
   ]
  },
  {
   "cell_type": "code",
   "execution_count": 35,
   "id": "524f94c0",
   "metadata": {},
   "outputs": [
    {
     "name": "stdout",
     "output_type": "stream",
     "text": [
      "total 296K\n",
      "-rw-rw-r-- 1 ec2-user ec2-user  54K May 14 13:19 test.csv\n",
      "-rw-rw-r-- 1 ec2-user ec2-user 239K May 14 13:19 train.csv\n"
     ]
    }
   ],
   "source": [
    "\n",
    "!ls -lh $PROCESSED_DATA/"
   ]
  },
  {
   "cell_type": "markdown",
   "id": "34e66522",
   "metadata": {},
   "source": [
    "Đẩy dữ liệu cần huấn luyện lên S3 để thực hiện dự báo"
   ]
  },
  {
   "cell_type": "code",
   "execution_count": 36,
   "id": "d4f36807",
   "metadata": {},
   "outputs": [],
   "source": [
    "KEY = f'{PREFIX}/train.csv'\n",
    "boto3.Session().resource('s3').Bucket(BUCKET).Object(KEY).upload_file(f'{PROCESSED_DATA}/train.csv')"
   ]
  },
  {
   "cell_type": "markdown",
   "id": "b9a56012",
   "metadata": {},
   "source": [
    "# Tạo Dataset Group và Dataset"
   ]
  },
  {
   "cell_type": "code",
   "execution_count": 37,
   "id": "83411175",
   "metadata": {},
   "outputs": [],
   "source": [
    "DATASET_FREQUENCY = \"D\" \n",
    "TIMESTAMP_FORMAT = \"yyyy-MM-dd\""
   ]
  },
  {
   "cell_type": "code",
   "execution_count": 38,
   "id": "0680e6d9",
   "metadata": {},
   "outputs": [],
   "source": [
    "project = 'Hanoi_retail_forecast'\n",
    "datasetName = project + '_ds'\n",
    "datasetGroupName = project + '_dsg'\n",
    "s3DataPath = \"s3://\" + BUCKET + \"/\" + KEY"
   ]
  },
  {
   "cell_type": "markdown",
   "id": "344fe910",
   "metadata": {},
   "source": [
    "# Tạo Dataset Group"
   ]
  },
  {
   "cell_type": "code",
   "execution_count": null,
   "id": "52b3cff0",
   "metadata": {},
   "outputs": [],
   "source": [
    "%%time\n",
    "\n",
    "# Let's try to create a dataset group:\n",
    "try:\n",
    "    create_dataset_group_response = forecast.create_dataset_group(\n",
    "        DatasetGroupName=datasetGroupName,\n",
    "        Domain=\"CUSTOM\",\n",
    "    )\n",
    "    datasetGroupArn = create_dataset_group_response['DatasetGroupArn']\n",
    "    \n",
    "except Exception as e:\n",
    "    error_code = e.response['Error']['Code']\n",
    "    \n",
    "    # If the dataset group already exists, we get its ARN:\n",
    "    if (error_code == 'ResourceAlreadyExistsException'):\n",
    "        print('A dataset group with this name already exists, you can use it to create and ingest new datasets')\n",
    "        \n",
    "        # List all the existing dataset groups:\n",
    "        forecast_dsg_list = forecast.list_dataset_groups()\n",
    "\n",
    "        # Loop through all the Forecast dataset groups:\n",
    "        for dsg in forecast_dsg_list['DatasetGroups']:\n",
    "            # Get the project name (the string after the first delimiter in the ARN)\n",
    "            dsg_name = dsg['DatasetGroupArn'].split('/')[1]\n",
    "\n",
    "            # Once we find it, we store the ARN and break out of the loop:\n",
    "            if (dsg_name == datasetGroupName):\n",
    "                datasetGroupArn = dsg['DatasetGroupArn']\n",
    "                break\n",
    "                \n",
    "    else:\n",
    "        raise\n",
    "        \n",
    "print(f'- Dataset group name: {datasetGroupName}')\n",
    "print(f'- Dataset group ARN: {datasetGroupArn}')"
   ]
  },
  {
   "cell_type": "markdown",
   "id": "b162d072",
   "metadata": {},
   "source": [
    "Sau khi tạo thành công chúng ta kiểm tra trên console thấy hiện như ảnh thì tạo dataset group thành công\n",
    "![Dataset](picture/datasetgroup.png)"
   ]
  },
  {
   "cell_type": "code",
   "execution_count": 40,
   "id": "281ff261",
   "metadata": {},
   "outputs": [
    {
     "data": {
      "text/plain": [
       "{'DatasetGroupName': 'Hanoi_retail_forecast_dsg',\n",
       " 'DatasetGroupArn': 'arn:aws:forecast:eu-west-1:800285456211:dataset-group/Hanoi_retail_forecast_dsg',\n",
       " 'DatasetArns': ['arn:aws:forecast:eu-west-1:800285456211:dataset/Hanoi_retail_forecast_ds'],\n",
       " 'Domain': 'CUSTOM',\n",
       " 'Status': 'ACTIVE',\n",
       " 'CreationTime': datetime.datetime(2021, 5, 12, 14, 27, 14, 921000, tzinfo=tzlocal()),\n",
       " 'LastModificationTime': datetime.datetime(2021, 5, 12, 14, 53, 16, 266000, tzinfo=tzlocal()),\n",
       " 'ResponseMetadata': {'RequestId': 'f67ea793-9387-48d2-9fd9-d32427820894',\n",
       "  'HTTPStatusCode': 200,\n",
       "  'HTTPHeaders': {'content-type': 'application/x-amz-json-1.1',\n",
       "   'date': 'Fri, 14 May 2021 13:19:08 GMT',\n",
       "   'x-amzn-requestid': 'f67ea793-9387-48d2-9fd9-d32427820894',\n",
       "   'content-length': '347',\n",
       "   'connection': 'keep-alive'},\n",
       "  'RetryAttempts': 0}}"
      ]
     },
     "execution_count": 40,
     "metadata": {},
     "output_type": "execute_result"
    }
   ],
   "source": [
    "forecast.describe_dataset_group(DatasetGroupArn=datasetGroupArn)"
   ]
  },
  {
   "cell_type": "markdown",
   "id": "88a4e138",
   "metadata": {},
   "source": [
    "# Tạo Dataset"
   ]
  },
  {
   "cell_type": "code",
   "execution_count": 41,
   "id": "ff21818a",
   "metadata": {},
   "outputs": [],
   "source": [
    "schema = {\n",
    "   \"Attributes\": [\n",
    "      { \"AttributeName\": \"timestamp\",    \"AttributeType\": \"timestamp\" },\n",
    "      { \"AttributeName\": \"item_id\",      \"AttributeType\": \"string\"    },\n",
    "        { \"AttributeName\": \"target_value\", \"AttributeType\": \"float\"     }\n",
    "   ]\n",
    "}"
   ]
  },
  {
   "cell_type": "code",
   "execution_count": 42,
   "id": "e48b0f0c",
   "metadata": {},
   "outputs": [
    {
     "data": {
      "text/html": [
       "<div>\n",
       "<style scoped>\n",
       "    .dataframe tbody tr th:only-of-type {\n",
       "        vertical-align: middle;\n",
       "    }\n",
       "\n",
       "    .dataframe tbody tr th {\n",
       "        vertical-align: top;\n",
       "    }\n",
       "\n",
       "    .dataframe thead th {\n",
       "        text-align: right;\n",
       "    }\n",
       "</style>\n",
       "<table border=\"1\" class=\"dataframe\">\n",
       "  <thead>\n",
       "    <tr style=\"text-align: right;\">\n",
       "      <th></th>\n",
       "      <th>timestamp</th>\n",
       "      <th>item_id</th>\n",
       "      <th>qty</th>\n",
       "    </tr>\n",
       "  </thead>\n",
       "  <tbody>\n",
       "    <tr>\n",
       "      <th>0</th>\n",
       "      <td>2019-01-01</td>\n",
       "      <td>271554</td>\n",
       "      <td>2</td>\n",
       "    </tr>\n",
       "    <tr>\n",
       "      <th>1</th>\n",
       "      <td>2019-01-01</td>\n",
       "      <td>495366</td>\n",
       "      <td>1</td>\n",
       "    </tr>\n",
       "    <tr>\n",
       "      <th>2</th>\n",
       "      <td>2019-01-02</td>\n",
       "      <td>495360</td>\n",
       "      <td>1</td>\n",
       "    </tr>\n",
       "    <tr>\n",
       "      <th>3</th>\n",
       "      <td>2019-01-03</td>\n",
       "      <td>525764</td>\n",
       "      <td>165</td>\n",
       "    </tr>\n",
       "    <tr>\n",
       "      <th>4</th>\n",
       "      <td>2019-01-05</td>\n",
       "      <td>517242</td>\n",
       "      <td>1</td>\n",
       "    </tr>\n",
       "  </tbody>\n",
       "</table>\n",
       "</div>"
      ],
      "text/plain": [
       "   timestamp  item_id  qty\n",
       "0 2019-01-01   271554    2\n",
       "1 2019-01-01   495366    1\n",
       "2 2019-01-02   495360    1\n",
       "3 2019-01-03   525764  165\n",
       "4 2019-01-05   517242    1"
      ]
     },
     "execution_count": 42,
     "metadata": {},
     "output_type": "execute_result"
    }
   ],
   "source": [
    "training_df.head()"
   ]
  },
  {
   "cell_type": "markdown",
   "id": "b5b2194b",
   "metadata": {},
   "source": [
    "Chúng ta cần chú ý tạo lược đồ đúng với dữ liệu đầu vào như target_value là qty và item_id là item_id trong dữ liệu ."
   ]
  },
  {
   "cell_type": "code",
   "execution_count": null,
   "id": "7710fd65",
   "metadata": {},
   "outputs": [],
   "source": [
    "## %%time \n",
    "\n",
    "try:\n",
    "    response = forecast.create_dataset(\n",
    "        Domain='CUSTOM',\n",
    "        DatasetType='TARGET_TIME_SERIES',\n",
    "        DatasetName=datasetName,\n",
    "        DataFrequency=DATASET_FREQUENCY, \n",
    "        Schema=schema\n",
    "    )\n",
    "    datasetArn = response['DatasetArn']\n",
    "    \n",
    "except Exception as e:\n",
    "    error_code = e.response['Error']['Code']\n",
    "\n",
    "    # If the dataset group already exists, we get its ARN:\n",
    "    if (error_code == 'ResourceAlreadyExistsException'):\n",
    "        print('A dataset with this name already exists, you can use it to ingest new data into it:')\n",
    "        \n",
    "        # List all the existing datasets:\n",
    "        forecast_ds_list = forecast.list_datasets()\n",
    "\n",
    "        # Loop through all the Forecast datasets:\n",
    "        for ds in forecast_ds_list['Datasets']:\n",
    "            # Get the project name (the string after the first delimiter in the ARN)\n",
    "            ds_name = ds['DatasetArn'].split('/')[1]\n",
    "\n",
    "            # Once we find it, we store the ARN and break out of the loop:\n",
    "            if (ds_name == datasetName):\n",
    "                datasetArn = ds['DatasetArn']\n",
    "                break\n",
    "                \n",
    "    else:\n",
    "        raise\n",
    "        \n",
    "print(f'- Dataset name: {datasetName}')\n",
    "print(f'- Dataset ARN: {datasetArn}')"
   ]
  },
  {
   "cell_type": "code",
   "execution_count": 44,
   "id": "33324c91",
   "metadata": {},
   "outputs": [
    {
     "data": {
      "text/plain": [
       "{'DatasetArn': 'arn:aws:forecast:eu-west-1:800285456211:dataset/Hanoi_retail_forecast_ds',\n",
       " 'DatasetName': 'Hanoi_retail_forecast_ds',\n",
       " 'Domain': 'CUSTOM',\n",
       " 'DatasetType': 'TARGET_TIME_SERIES',\n",
       " 'DataFrequency': 'D',\n",
       " 'Schema': {'Attributes': [{'AttributeName': 'timestamp',\n",
       "    'AttributeType': 'timestamp'},\n",
       "   {'AttributeName': 'item_id', 'AttributeType': 'string'},\n",
       "   {'AttributeName': 'target_value', 'AttributeType': 'float'}]},\n",
       " 'EncryptionConfig': {},\n",
       " 'Status': 'ACTIVE',\n",
       " 'CreationTime': datetime.datetime(2021, 5, 12, 14, 28, 1, 132000, tzinfo=tzlocal()),\n",
       " 'LastModificationTime': datetime.datetime(2021, 5, 12, 14, 48, 11, 535000, tzinfo=tzlocal()),\n",
       " 'ResponseMetadata': {'RequestId': 'd06636da-4fc6-4c5f-97d6-b3683678f38f',\n",
       "  'HTTPStatusCode': 200,\n",
       "  'HTTPHeaders': {'content-type': 'application/x-amz-json-1.1',\n",
       "   'date': 'Fri, 14 May 2021 13:19:09 GMT',\n",
       "   'x-amzn-requestid': 'd06636da-4fc6-4c5f-97d6-b3683678f38f',\n",
       "   'content-length': '509',\n",
       "   'connection': 'keep-alive'},\n",
       "  'RetryAttempts': 0}}"
      ]
     },
     "execution_count": 44,
     "metadata": {},
     "output_type": "execute_result"
    }
   ],
   "source": [
    "forecast.describe_dataset(DatasetArn=datasetArn)"
   ]
  },
  {
   "cell_type": "markdown",
   "id": "e24023d8",
   "metadata": {},
   "source": [
    "# Thêm Dataset vào Dataset Group"
   ]
  },
  {
   "cell_type": "code",
   "execution_count": 45,
   "id": "0e98b073",
   "metadata": {},
   "outputs": [
    {
     "data": {
      "text/plain": [
       "{'ResponseMetadata': {'RequestId': '11036e2f-6563-4f13-b66c-2d4fa2af33c0',\n",
       "  'HTTPStatusCode': 200,\n",
       "  'HTTPHeaders': {'content-type': 'application/x-amz-json-1.1',\n",
       "   'date': 'Fri, 14 May 2021 13:19:10 GMT',\n",
       "   'x-amzn-requestid': '11036e2f-6563-4f13-b66c-2d4fa2af33c0',\n",
       "   'content-length': '2',\n",
       "   'connection': 'keep-alive'},\n",
       "  'RetryAttempts': 0}}"
      ]
     },
     "execution_count": 45,
     "metadata": {},
     "output_type": "execute_result"
    }
   ],
   "source": [
    "forecast.update_dataset_group(DatasetGroupArn=datasetGroupArn, DatasetArns=[datasetArn])"
   ]
  },
  {
   "cell_type": "markdown",
   "id": "7cd118e0",
   "metadata": {},
   "source": [
    "Sau khi thêm thành công kiểm tra trên console nếu active là thêm Dataset vào Dataset Group thành công sẽ hiện như hình dưới đây:\n",
    "![Dataset](picture/adddataset.png)"
   ]
  },
  {
   "cell_type": "code",
   "execution_count": 46,
   "id": "04edaeaa",
   "metadata": {},
   "outputs": [],
   "source": [
    "def get_or_create_iam_role(role_name):\n",
    "    iam = boto3.client(\"iam\")\n",
    "\n",
    "    assume_role_policy_document = {\n",
    "        \"Version\": \"2012-10-17\",\n",
    "        \"Statement\": [\n",
    "            {\n",
    "              \"Effect\": \"Allow\",\n",
    "              \"Principal\": {\n",
    "                \"Service\": \"forecast.amazonaws.com\"\n",
    "              },\n",
    "              \"Action\": \"sts:AssumeRole\"\n",
    "            }\n",
    "        ]\n",
    "    }\n",
    "\n",
    "    try:\n",
    "        create_role_response = iam.create_role(\n",
    "            RoleName = role_name,\n",
    "            AssumeRolePolicyDocument = json.dumps(assume_role_policy_document)\n",
    "        )\n",
    "        role_arn = create_role_response[\"Role\"][\"Arn\"]\n",
    "        print(\"Created\", role_arn)\n",
    "        \n",
    "    except iam.exceptions.EntityAlreadyExistsException:\n",
    "        print(\"The role \" + role_name + \" exists, ignore to create it\")\n",
    "        role_arn = boto3.resource('iam').Role(role_name).arn\n",
    "\n",
    "    print(\"Attaching policies\")\n",
    "\n",
    "    iam.attach_role_policy(\n",
    "        RoleName = role_name,\n",
    "        PolicyArn = \"arn:aws:iam::aws:policy/AmazonForecastFullAccess\"\n",
    "    )\n",
    "\n",
    "    iam.attach_role_policy(\n",
    "        RoleName=role_name,\n",
    "        PolicyArn='arn:aws:iam::aws:policy/AmazonS3FullAccess',\n",
    "    )\n",
    "\n",
    "    print(\"Waiting for a minute to allow IAM role policy attachment to propagate\")\n",
    "    time.sleep(60)\n",
    "\n",
    "    print(\"Done.\")\n",
    "    return role_arn"
   ]
  },
  {
   "cell_type": "code",
   "execution_count": 47,
   "id": "8f1f16be",
   "metadata": {},
   "outputs": [
    {
     "name": "stdout",
     "output_type": "stream",
     "text": [
      "The role ForecastNotebook-RetailPrediction exists, ignore to create it\n",
      "Attaching policies\n",
      "Waiting for a minute to allow IAM role policy attachment to propagate\n",
      "Done.\n"
     ]
    }
   ],
   "source": [
    "# Create the role to provide to Amazon Forecast.\n",
    "role_name = \"ForecastNotebook-RetailPrediction\"\n",
    "role_arn = get_or_create_iam_role(role_name=role_name)"
   ]
  },
  {
   "cell_type": "markdown",
   "id": "7238ce94",
   "metadata": {},
   "source": [
    "# Tạo Data Import Job\n",
    "Sau khi mô hình dự báo đã hiểu được định dạng file CSV, bước tiếp theo chúng ta đẩy dữ liệu từ S3 lên Amazon Forecast."
   ]
  },
  {
   "cell_type": "code",
   "execution_count": null,
   "id": "b26798c6",
   "metadata": {},
   "outputs": [],
   "source": [
    "datasetImportJobName = 'Hanoi_retail_dataset_import_job'\n",
    "ds_import_job_response = forecast.create_dataset_import_job(\n",
    "    DatasetImportJobName=datasetImportJobName,\n",
    "    DatasetArn=datasetArn,\n",
    "    DataSource= {\n",
    "        \"S3Config\" : {\n",
    "            \"Path\": s3DataPath,\n",
    "            \"RoleArn\": role_arn\n",
    "        }\n",
    "    },\n",
    "    TimestampFormat=TIMESTAMP_FORMAT\n",
    ")"
   ]
  },
  {
   "cell_type": "code",
   "execution_count": null,
   "id": "18396d6f",
   "metadata": {},
   "outputs": [],
   "source": [
    "while True:\n",
    "    status = forecast.describe_dataset_import_job(DatasetImportJobArn=ds_import_job_arn)['Status']\n",
    "    print(str(pd.to_datetime(datetime.now()))[:19], \"| Data ingestion:\", status)\n",
    "    \n",
    "    if status in ('ACTIVE', 'CREATE_FAILED'): break\n",
    "    time.sleep(60)\n",
    "\n",
    "print(status)"
   ]
  },
  {
   "cell_type": "markdown",
   "id": "ba028b94",
   "metadata": {},
   "source": [
    "Sau khi đẩy thành dữ liệu thành Amazon Forecast thành công như trong ảnh, bước tiếp theo dựng mô hình dự báo.\n",
    "![Dataset](picture/import_job.png)"
   ]
  },
  {
   "cell_type": "markdown",
   "id": "50994f36",
   "metadata": {},
   "source": [
    "# Xây dựng mô hình dự báo\n",
    "---\n",
    "# Tạo mô hình\n",
    "\n",
    "Đây là bước Sau khi đẩy dữ liệu lên Amazon Forecast thành công tiếp theo đó chúng ta xây dựng mô hình phù hợp với yêu cầu.\n",
    "\n",
    "Forecast Horizon là thời gian mô hình có thể dự báo trong tương lai.Giả sử nếu chọn 12 thì có nghĩ là mô hình sẽ dự báo cho 12 tuần tiếp theo.\n",
    "\n",
    "Mỗi mô hình sẽ sử dụng một thuật toán để huấn luyện mô hình sau đó mới ra dự báo từ dữ liệu mình đưa vào. Để dễ dàng thì Amazon Forecast đưa ra cho một số thuật toán:\n",
    "\n",
    "* NN-QR: arn:aws:forecast:::algorithm/CNN-QR\n",
    "* eepAR+: arn:aws:forecast:::algorithm/Deep_AR_Plus\n",
    "* rophet: arn:aws:forecast:::algorithm/Prophet\n",
    "* xponential Smoothing (ETS): arn:aws:forecast:::algorithm/ETS\n",
    "* utoregressive Integrated Moving Average (ARIMA): *arn:aws:forecast:::algorithm/ARIMA\n",
    "* on-Parametric Time Series (NPTS): *arn:aws:forecast:::algorithm/NPTS\n",
    "\n",
    "Để biết thêm, mọi người có thêm tham khảo trên documentation của Amazon Forecast."
   ]
  },
  {
   "cell_type": "markdown",
   "id": "6f4fc3b6",
   "metadata": {},
   "source": [
    "Chúng ta kiểm tra xem có bao nhiêu mã sản phẩm "
   ]
  },
  {
   "cell_type": "code",
   "execution_count": 51,
   "id": "c7850da8",
   "metadata": {},
   "outputs": [
    {
     "data": {
      "text/plain": [
       "15"
      ]
     },
     "execution_count": 51,
     "metadata": {},
     "output_type": "execute_result"
    }
   ],
   "source": [
    "len(training_df['item_id'].unique())"
   ]
  },
  {
   "cell_type": "markdown",
   "id": "742677e4",
   "metadata": {},
   "source": [
    "Xác định thời gian dự báo cho tương lai và thuật toán được lựa chọn Là ARIMA."
   ]
  },
  {
   "cell_type": "code",
   "execution_count": 52,
   "id": "6b2b2fba",
   "metadata": {},
   "outputs": [],
   "source": [
    "predictorName= project + '_arima'\n",
    "forecastHorizon = 22\n",
    "algorithmArn = 'arn:aws:forecast:::algorithm/ARIMA'"
   ]
  },
  {
   "cell_type": "markdown",
   "id": "47aca78d",
   "metadata": {},
   "source": [
    "Tại đây chúng ta có thể tạo Dự đoán bằng cách đào tạo mô hình dựa trên dữ liệu cung cấp cho Amazon Forecast"
   ]
  },
  {
   "cell_type": "code",
   "execution_count": 53,
   "id": "3291fcae",
   "metadata": {},
   "outputs": [
    {
     "name": "stdout",
     "output_type": "stream",
     "text": [
      "A predictor with this name already exists, you can query it to check its status or request a forecast:\n",
      "- Predictor name: Hanoi_retail_forecast_arima\n",
      "- Predictor ARN: arn:aws:forecast:eu-west-1:800285456211:predictor/Hanoi_retail_forecast_arima\n"
     ]
    }
   ],
   "source": [
    "try:\n",
    "    create_predictor_response = forecast.create_predictor(\n",
    "        PredictorName = predictorName, \n",
    "        AlgorithmArn = algorithmArn,\n",
    "        ForecastHorizon = forecastHorizon,\n",
    "        PerformAutoML = False,\n",
    "        PerformHPO = False,\n",
    "        EvaluationParameters= {\n",
    "            \"NumberOfBacktestWindows\": 1, \n",
    "            \"BackTestWindowOffset\": 24\n",
    "        }, \n",
    "        InputDataConfig = {\"DatasetGroupArn\": datasetGroupArn},\n",
    "        FeaturizationConfig = {\n",
    "            \"ForecastFrequency\": \"W\", \n",
    "            \"Featurizations\": [{\n",
    "                \"AttributeName\": \"target_value\", \n",
    "                \"FeaturizationPipeline\": [{\n",
    "                    \"FeaturizationMethodName\": \"filling\", \n",
    "                    \"FeaturizationMethodParameters\": {\n",
    "                        \"frontfill\": \"none\", \n",
    "                        \"middlefill\": \"zero\", \n",
    "                        \"backfill\": \"zero\"\n",
    "                    }\n",
    "                }]\n",
    "            }]\n",
    "        }\n",
    "    )\n",
    "\n",
    "    predictor_arn = create_predictor_response['PredictorArn']\n",
    "    \n",
    "except Exception as e:\n",
    "    error_code = e.response['Error']['Code']\n",
    "\n",
    "    # If the predictor already exists, we get its ARN:\n",
    "    if (error_code == 'ResourceAlreadyExistsException'):\n",
    "        print('A predictor with this name already exists, you can query it to check its status or request a forecast:')\n",
    "        \n",
    "        # List all the existing predictors:\n",
    "        forecast_pred_list = forecast.list_predictors()\n",
    "\n",
    "        # Loop through all the Forecast predictors:\n",
    "        for predictor in forecast_pred_list['Predictors']:\n",
    "            # Get the project name (the string after the first delimiter in the ARN)\n",
    "            predictor_name = predictor['PredictorArn'].split('/')[1]\n",
    "\n",
    "            # Once we find it, we store the ARN and break out of the loop:\n",
    "            if (predictor_name == predictorName):\n",
    "                predictor_arn = predictor['PredictorArn']\n",
    "                break\n",
    "                   \n",
    "    else:\n",
    "        raise\n",
    "        \n",
    "print(f'- Predictor name: {predictorName}')\n",
    "print(f'- Predictor ARN: {predictor_arn}')"
   ]
  },
  {
   "cell_type": "code",
   "execution_count": 54,
   "id": "ace8ae15",
   "metadata": {},
   "outputs": [
    {
     "name": "stdout",
     "output_type": "stream",
     "text": [
      "2021-05-14 13:20:48 | Model training: ACTIVE\n",
      "ACTIVE\n"
     ]
    }
   ],
   "source": [
    "while True:\n",
    "    status = forecast.describe_predictor(PredictorArn=predictor_arn)['Status']\n",
    "    print(str(pd.to_datetime(datetime.now()))[:19], \"| Model training:\", status)\n",
    "    \n",
    "    if status in ('ACTIVE', 'CREATE_FAILED'): break\n",
    "    time.sleep(60)\n",
    "\n",
    "print(status)"
   ]
  },
  {
   "cell_type": "markdown",
   "id": "b7fa8fbf",
   "metadata": {},
   "source": [
    "![Dataset](picture/arima.png)"
   ]
  },
  {
   "cell_type": "code",
   "execution_count": 55,
   "id": "411424db",
   "metadata": {},
   "outputs": [
    {
     "data": {
      "text/plain": [
       "{'PredictorEvaluationResults': [{'AlgorithmArn': 'arn:aws:forecast:::algorithm/ARIMA',\n",
       "   'TestWindows': [{'EvaluationType': 'SUMMARY',\n",
       "     'Metrics': {'RMSE': 133.1655870299217,\n",
       "      'WeightedQuantileLosses': [{'Quantile': 0.9,\n",
       "        'LossValue': 0.7514790056270116},\n",
       "       {'Quantile': 0.5, 'LossValue': 1.5957938525538167},\n",
       "       {'Quantile': 0.1, 'LossValue': 0.33914930485405254}],\n",
       "      'ErrorMetrics': [{'ForecastType': 'mean',\n",
       "        'WAPE': 1.5957938525538167,\n",
       "        'RMSE': 133.1655870299217}]}},\n",
       "    {'TestWindowStart': datetime.datetime(2019, 2, 16, 0, 0, tzinfo=tzlocal()),\n",
       "     'TestWindowEnd': datetime.datetime(2019, 7, 20, 0, 0, tzinfo=tzlocal()),\n",
       "     'ItemCount': 15,\n",
       "     'EvaluationType': 'COMPUTED',\n",
       "     'Metrics': {'RMSE': 133.1655870299217,\n",
       "      'WeightedQuantileLosses': [{'Quantile': 0.9,\n",
       "        'LossValue': 0.7514790056270115},\n",
       "       {'Quantile': 0.5, 'LossValue': 1.5957938525538164},\n",
       "       {'Quantile': 0.1, 'LossValue': 0.33914930485405254}],\n",
       "      'ErrorMetrics': [{'ForecastType': 'mean',\n",
       "        'WAPE': 1.5957938525538164,\n",
       "        'RMSE': 133.1655870299217}]}}]}],\n",
       " 'ResponseMetadata': {'RequestId': '71a381f9-a321-4a5a-96ef-f56d387affea',\n",
       "  'HTTPStatusCode': 200,\n",
       "  'HTTPHeaders': {'content-type': 'application/x-amz-json-1.1',\n",
       "   'date': 'Fri, 14 May 2021 13:20:50 GMT',\n",
       "   'x-amzn-requestid': '71a381f9-a321-4a5a-96ef-f56d387affea',\n",
       "   'content-length': '836',\n",
       "   'connection': 'keep-alive'},\n",
       "  'RetryAttempts': 0}}"
      ]
     },
     "execution_count": 55,
     "metadata": {},
     "output_type": "execute_result"
    }
   ],
   "source": [
    "forecast.get_accuracy_metrics(PredictorArn=predictor_arn)"
   ]
  },
  {
   "cell_type": "markdown",
   "id": "2cba6a76",
   "metadata": {},
   "source": [
    "# Triển khai mô hình\n",
    "Bây giờ chúng ta có thể tạo dự báo bằng cách sử dụng công cụ dự đoán đã được đào tạo. Trong lần tạo dự báo đầu tiên, Amazon Forecast đào tạo lại một mô hình trên toàn bộ tập dữ liệu: lần này, nó không chia nhỏ nhóm đào tạo trong đào tạo / xác thực, nó sử dụng toàn bộ dữ liệu đào tạo của bạn để đào tạo một mô hình cho mọi item_id.\n",
    "\n",
    "CreateForecast này tạo dự báo cho mọi item_id trong  tập dữ liệu được sử dụng để đào tạo dự đoán. Sau khi dự báo được tạo, bạn có thể truy vấn dự báo hoặc xuất dự báo đó sang nhóm Amazon S3.\n"
   ]
  },
  {
   "cell_type": "code",
   "execution_count": 56,
   "id": "202f985a",
   "metadata": {},
   "outputs": [],
   "source": [
    "forecastName = project + '_arima_forecast'"
   ]
  },
  {
   "cell_type": "code",
   "execution_count": null,
   "id": "e05d5ca3",
   "metadata": {},
   "outputs": [],
   "source": [
    "try:\n",
    "    create_forecast_response = forecast.create_forecast(\n",
    "        ForecastName=forecastName,\n",
    "        PredictorArn=predictor_arn\n",
    "    )\n",
    "    forecast_arn = create_forecast_response['ForecastArn']\n",
    "    \n",
    "except Exception as e:\n",
    "    error_code = e.response['Error']['Code']\n",
    "\n",
    "    # If the predictor already exists, we get its ARN:\n",
    "    if (error_code == 'ResourceAlreadyExistsException'):\n",
    "        print('A forecast with this name already exists, you can use it to obtain a prediction:')\n",
    "        \n",
    "        # List all the existing predictors:\n",
    "        forecast_fc_list = forecast.list_forecasts()\n",
    "\n",
    "        # Loop through all the Forecast forecasts:\n",
    "        for fc in forecast_fc_list['Forecasts']:\n",
    "            # Get the project name (the string after the first delimiter in the ARN)\n",
    "            fc_name = fc['ForecastArn'].split('/')[1]\n",
    "\n",
    "            # Once we find it, we store the ARN and break out of the loop:\n",
    "            if (fc_name == forecastName):\n",
    "                forecast_arn = fc['ForecastArn']\n",
    "                break\n",
    "                \n",
    "    else:\n",
    "        raise\n",
    "        \n",
    "print(f'- Forecast name: {forecastName}')\n",
    "print(f'- Forecast ARN: {forecast_arn}')"
   ]
  },
  {
   "cell_type": "code",
   "execution_count": 58,
   "id": "440a3dd7",
   "metadata": {},
   "outputs": [
    {
     "name": "stdout",
     "output_type": "stream",
     "text": [
      "2021-05-14 13:20:56 | Forecast generation: ACTIVE\n",
      "ACTIVE\n"
     ]
    }
   ],
   "source": [
    "while True:\n",
    "    status = forecast.describe_forecast(ForecastArn=forecast_arn)['Status']\n",
    "    print(str(pd.to_datetime(datetime.now()))[:19], \"| Forecast generation:\", status)\n",
    "    \n",
    "    if status in ('ACTIVE', 'CREATE_FAILED'): break\n",
    "    time.sleep(60)\n",
    "\n",
    "print(status)"
   ]
  },
  {
   "cell_type": "markdown",
   "id": "b1d59440",
   "metadata": {},
   "source": [
    "![Dataset](picture/forecast.png)"
   ]
  },
  {
   "cell_type": "markdown",
   "id": "ff242c2d",
   "metadata": {},
   "source": [
    "# Kiểm tra mô hình dự báo\n",
    "----\n",
    "# Truy vấn dữ liệu dự đoán\n",
    "\n",
    "Để truy vấn dự báo chúng ta chọn chỉ định item_id.\n",
    "Vì Forecast Horizon là 24 nên dự báo của chúng ta sẽ có 24 điểm tương ứng cho 24 tuần."
   ]
  },
  {
   "cell_type": "code",
   "execution_count": 71,
   "id": "b025ec11",
   "metadata": {},
   "outputs": [
    {
     "name": "stdout",
     "output_type": "stream",
     "text": [
      "arn:aws:forecast:eu-west-1:800285456211:forecast/Hanoi_retail_forecast_arima_forecast\n",
      "\n",
      "{'Forecast': {'Predictions': {'p10': [{'Timestamp': '2019-07-29T00:00:00', 'Value': 49.127620697021484}, {'Timestamp': '2019-08-05T00:00:00', 'Value': 48.49508285522461}, {'Timestamp': '2019-08-12T00:00:00', 'Value': 47.87256622314453}, {'Timestamp': '2019-08-19T00:00:00', 'Value': 47.25960922241211}, {'Timestamp': '2019-08-26T00:00:00', 'Value': 46.65578079223633}, {'Timestamp': '2019-09-02T00:00:00', 'Value': 46.06068801879883}, {'Timestamp': '2019-09-09T00:00:00', 'Value': 45.47396469116211}, {'Timestamp': '2019-09-16T00:00:00', 'Value': 44.895259857177734}, {'Timestamp': '2019-09-23T00:00:00', 'Value': 44.32426071166992}, {'Timestamp': '2019-09-30T00:00:00', 'Value': 43.76066589355469}, {'Timestamp': '2019-10-07T00:00:00', 'Value': 43.204193115234375}, {'Timestamp': '2019-10-14T00:00:00', 'Value': 42.654579162597656}, {'Timestamp': '2019-10-21T00:00:00', 'Value': 42.111576080322266}, {'Timestamp': '2019-10-28T00:00:00', 'Value': 41.574951171875}, {'Timestamp': '2019-11-04T00:00:00', 'Value': 41.04448699951172}, {'Timestamp': '2019-11-11T00:00:00', 'Value': 40.51996994018555}, {'Timestamp': '2019-11-18T00:00:00', 'Value': 40.00121307373047}, {'Timestamp': '2019-11-25T00:00:00', 'Value': 39.4880256652832}, {'Timestamp': '2019-12-02T00:00:00', 'Value': 38.98023223876953}, {'Timestamp': '2019-12-09T00:00:00', 'Value': 38.47766876220703}, {'Timestamp': '2019-12-16T00:00:00', 'Value': 37.98017120361328}, {'Timestamp': '2019-12-23T00:00:00', 'Value': 37.48759460449219}], 'p50': [{'Timestamp': '2019-07-29T00:00:00', 'Value': 87.79722595214844}, {'Timestamp': '2019-08-05T00:00:00', 'Value': 87.79722595214844}, {'Timestamp': '2019-08-12T00:00:00', 'Value': 87.79722595214844}, {'Timestamp': '2019-08-19T00:00:00', 'Value': 87.79722595214844}, {'Timestamp': '2019-08-26T00:00:00', 'Value': 87.79722595214844}, {'Timestamp': '2019-09-02T00:00:00', 'Value': 87.79722595214844}, {'Timestamp': '2019-09-09T00:00:00', 'Value': 87.79722595214844}, {'Timestamp': '2019-09-16T00:00:00', 'Value': 87.79722595214844}, {'Timestamp': '2019-09-23T00:00:00', 'Value': 87.79722595214844}, {'Timestamp': '2019-09-30T00:00:00', 'Value': 87.79722595214844}, {'Timestamp': '2019-10-07T00:00:00', 'Value': 87.79722595214844}, {'Timestamp': '2019-10-14T00:00:00', 'Value': 87.79722595214844}, {'Timestamp': '2019-10-21T00:00:00', 'Value': 87.79722595214844}, {'Timestamp': '2019-10-28T00:00:00', 'Value': 87.79722595214844}, {'Timestamp': '2019-11-04T00:00:00', 'Value': 87.79722595214844}, {'Timestamp': '2019-11-11T00:00:00', 'Value': 87.79722595214844}, {'Timestamp': '2019-11-18T00:00:00', 'Value': 87.79722595214844}, {'Timestamp': '2019-11-25T00:00:00', 'Value': 87.79722595214844}, {'Timestamp': '2019-12-02T00:00:00', 'Value': 87.79722595214844}, {'Timestamp': '2019-12-09T00:00:00', 'Value': 87.79722595214844}, {'Timestamp': '2019-12-16T00:00:00', 'Value': 87.79722595214844}, {'Timestamp': '2019-12-23T00:00:00', 'Value': 87.79722595214844}], 'p90': [{'Timestamp': '2019-07-29T00:00:00', 'Value': 126.46683502197266}, {'Timestamp': '2019-08-05T00:00:00', 'Value': 127.099365234375}, {'Timestamp': '2019-08-12T00:00:00', 'Value': 127.72188568115234}, {'Timestamp': '2019-08-19T00:00:00', 'Value': 128.3348388671875}, {'Timestamp': '2019-08-26T00:00:00', 'Value': 128.9386749267578}, {'Timestamp': '2019-09-02T00:00:00', 'Value': 129.5337677001953}, {'Timestamp': '2019-09-09T00:00:00', 'Value': 130.1204833984375}, {'Timestamp': '2019-09-16T00:00:00', 'Value': 130.69918823242188}, {'Timestamp': '2019-09-23T00:00:00', 'Value': 131.2701873779297}, {'Timestamp': '2019-09-30T00:00:00', 'Value': 131.8337860107422}, {'Timestamp': '2019-10-07T00:00:00', 'Value': 132.3902587890625}, {'Timestamp': '2019-10-14T00:00:00', 'Value': 132.93988037109375}, {'Timestamp': '2019-10-21T00:00:00', 'Value': 133.48287963867188}, {'Timestamp': '2019-10-28T00:00:00', 'Value': 134.01950073242188}, {'Timestamp': '2019-11-04T00:00:00', 'Value': 134.5499725341797}, {'Timestamp': '2019-11-11T00:00:00', 'Value': 135.07447814941406}, {'Timestamp': '2019-11-18T00:00:00', 'Value': 135.59323120117188}, {'Timestamp': '2019-11-25T00:00:00', 'Value': 136.10643005371094}, {'Timestamp': '2019-12-02T00:00:00', 'Value': 136.61422729492188}, {'Timestamp': '2019-12-09T00:00:00', 'Value': 137.11679077148438}, {'Timestamp': '2019-12-16T00:00:00', 'Value': 137.61428833007812}, {'Timestamp': '2019-12-23T00:00:00', 'Value': 138.1068572998047}]}}, 'ResponseMetadata': {'RequestId': '49187c05-21e0-4f7f-93cd-a81d9db59519', 'HTTPStatusCode': 200, 'HTTPHeaders': {'content-type': 'application/x-amz-json-1.1', 'date': 'Wed, 12 May 2021 16:02:24 GMT', 'x-amzn-requestid': '49187c05-21e0-4f7f-93cd-a81d9db59519', 'content-length': '4159', 'connection': 'keep-alive'}, 'RetryAttempts': 0}}\n"
     ]
    }
   ],
   "source": [
    "item_id = '495366'\n",
    "\n",
    "print(forecast_arn)\n",
    "print()\n",
    "forecastResponse = forecastquery.query_forecast(\n",
    "    ForecastArn=forecast_arn,\n",
    "    Filters={'item_id': item_id}\n",
    ")\n",
    "print(forecastResponse)"
   ]
  },
  {
   "cell_type": "markdown",
   "id": "9302f06d",
   "metadata": {},
   "source": [
    "# Kiểm tra kết quả dự đoán"
   ]
  },
  {
   "cell_type": "code",
   "execution_count": 91,
   "id": "aa66a7ad",
   "metadata": {},
   "outputs": [],
   "source": [
    "def Format(data):\n",
    "    data['timestamp'] = pd.to_datetime(data['timestamp'])\n",
    "    data['week'] = data['timestamp'].apply(lambda x: x.isocalendar()[1])\n",
    "    data = data.drop(columns = 'item_id')\n",
    "    data = data.groupby('week').sum()\n",
    "    return data\n",
    "\n",
    "# Hàm dùng để chuyển ngày sang tuần tương ứng"
   ]
  },
  {
   "cell_type": "markdown",
   "id": "b47d4acf",
   "metadata": {},
   "source": [
    "Kiểm tra dữ liệu thật và dữ liệu dùng để kiểm tra dự báo."
   ]
  },
  {
   "cell_type": "code",
   "execution_count": null,
   "id": "8b502856",
   "metadata": {},
   "outputs": [],
   "source": [
    "item_id = 495366\n",
    "# IPhone XS max\n",
    "actual_train_df = pd.read_csv(f'{PROCESSED_DATA}/train.csv', names=['timestamp','item_id','actual'], parse_dates=[0])\n",
    "actual_train_df = actual_train_df[actual_train_df['item_id'] == item_id]\n",
    "actual_train_df = Format(actual_train_df)\n",
    "# actual_train_df = formatdataframe(actual_train_df)\n",
    "actual_test_df = pd.read_csv(f'{PROCESSED_DATA}/test.csv', names=['timestamp','item_id','actual'], parse_dates=[0]) \n",
    "actual_test_df = actual_test_df[actual_test_df['item_id'] == item_id]\n",
    "actual_test_df = Format(actual_test_df)\n",
    "actual_test_df = actual_test_df.loc[2:]\n",
    "actual_test_df\n",
    "# actual_test_df = formatdataframe(actual_test_df)\n",
    "# actual_train_df"
   ]
  },
  {
   "cell_type": "markdown",
   "id": "639bc26b",
   "metadata": {},
   "source": [
    "Tiếp theo, chúng ta cần chuyển đổi phản hồi JSON từ Predictor thành khung dữ liệu để chúng ta có thể vẽ biểu đồ"
   ]
  },
  {
   "cell_type": "code",
   "execution_count": 94,
   "id": "7b6d85c2",
   "metadata": {},
   "outputs": [
    {
     "data": {
      "text/plain": [
       "{'p10':     Timestamp        p10\n",
       " 0  2019-07-29  49.127621\n",
       " 1  2019-08-05  48.495083\n",
       " 2  2019-08-12  47.872566\n",
       " 3  2019-08-19  47.259609\n",
       " 4  2019-08-26  46.655781\n",
       " 5  2019-09-02  46.060688\n",
       " 6  2019-09-09  45.473965\n",
       " 7  2019-09-16  44.895260\n",
       " 8  2019-09-23  44.324261\n",
       " 9  2019-09-30  43.760666\n",
       " 10 2019-10-07  43.204193\n",
       " 11 2019-10-14  42.654579\n",
       " 12 2019-10-21  42.111576\n",
       " 13 2019-10-28  41.574951\n",
       " 14 2019-11-04  41.044487\n",
       " 15 2019-11-11  40.519970\n",
       " 16 2019-11-18  40.001213\n",
       " 17 2019-11-25  39.488026\n",
       " 18 2019-12-02  38.980232\n",
       " 19 2019-12-09  38.477669\n",
       " 20 2019-12-16  37.980171\n",
       " 21 2019-12-23  37.487595,\n",
       " 'p50':     Timestamp        p50\n",
       " 0  2019-07-29  87.797226\n",
       " 1  2019-08-05  87.797226\n",
       " 2  2019-08-12  87.797226\n",
       " 3  2019-08-19  87.797226\n",
       " 4  2019-08-26  87.797226\n",
       " 5  2019-09-02  87.797226\n",
       " 6  2019-09-09  87.797226\n",
       " 7  2019-09-16  87.797226\n",
       " 8  2019-09-23  87.797226\n",
       " 9  2019-09-30  87.797226\n",
       " 10 2019-10-07  87.797226\n",
       " 11 2019-10-14  87.797226\n",
       " 12 2019-10-21  87.797226\n",
       " 13 2019-10-28  87.797226\n",
       " 14 2019-11-04  87.797226\n",
       " 15 2019-11-11  87.797226\n",
       " 16 2019-11-18  87.797226\n",
       " 17 2019-11-25  87.797226\n",
       " 18 2019-12-02  87.797226\n",
       " 19 2019-12-09  87.797226\n",
       " 20 2019-12-16  87.797226\n",
       " 21 2019-12-23  87.797226,\n",
       " 'p90':     Timestamp         p90\n",
       " 0  2019-07-29  126.466835\n",
       " 1  2019-08-05  127.099365\n",
       " 2  2019-08-12  127.721886\n",
       " 3  2019-08-19  128.334839\n",
       " 4  2019-08-26  128.938675\n",
       " 5  2019-09-02  129.533768\n",
       " 6  2019-09-09  130.120483\n",
       " 7  2019-09-16  130.699188\n",
       " 8  2019-09-23  131.270187\n",
       " 9  2019-09-30  131.833786\n",
       " 10 2019-10-07  132.390259\n",
       " 11 2019-10-14  132.939880\n",
       " 12 2019-10-21  133.482880\n",
       " 13 2019-10-28  134.019501\n",
       " 14 2019-11-04  134.549973\n",
       " 15 2019-11-11  135.074478\n",
       " 16 2019-11-18  135.593231\n",
       " 17 2019-11-25  136.106430\n",
       " 18 2019-12-02  136.614227\n",
       " 19 2019-12-09  137.116791\n",
       " 20 2019-12-16  137.614288\n",
       " 21 2019-12-23  138.106857}"
      ]
     },
     "execution_count": 94,
     "metadata": {},
     "output_type": "execute_result"
    }
   ],
   "source": [
    "predictions_df = dict()\n",
    "for percentile in ['p10', 'p50', 'p90']:\n",
    "    predictions_df.update({percentile: pd.DataFrame.from_dict(forecastResponse['Forecast']['Predictions'][percentile])})\n",
    "    predictions_df[percentile]['Timestamp'] = pd.to_datetime(predictions_df[percentile]['Timestamp'])\n",
    "    predictions_df[percentile].columns = ['Timestamp', percentile]"
   ]
  },
  {
   "cell_type": "code",
   "execution_count": 96,
   "id": "cb817cc3",
   "metadata": {},
   "outputs": [
    {
     "data": {
      "text/html": [
       "<div>\n",
       "<style scoped>\n",
       "    .dataframe tbody tr th:only-of-type {\n",
       "        vertical-align: middle;\n",
       "    }\n",
       "\n",
       "    .dataframe tbody tr th {\n",
       "        vertical-align: top;\n",
       "    }\n",
       "\n",
       "    .dataframe thead th {\n",
       "        text-align: right;\n",
       "    }\n",
       "</style>\n",
       "<table border=\"1\" class=\"dataframe\">\n",
       "  <thead>\n",
       "    <tr style=\"text-align: right;\">\n",
       "      <th></th>\n",
       "      <th>actual</th>\n",
       "      <th>p10</th>\n",
       "      <th>p50</th>\n",
       "      <th>p90</th>\n",
       "    </tr>\n",
       "    <tr>\n",
       "      <th>week</th>\n",
       "      <th></th>\n",
       "      <th></th>\n",
       "      <th></th>\n",
       "      <th></th>\n",
       "    </tr>\n",
       "  </thead>\n",
       "  <tbody>\n",
       "    <tr>\n",
       "      <th>31</th>\n",
       "      <td>94</td>\n",
       "      <td>49.127621</td>\n",
       "      <td>87.797226</td>\n",
       "      <td>126.466835</td>\n",
       "    </tr>\n",
       "    <tr>\n",
       "      <th>32</th>\n",
       "      <td>61</td>\n",
       "      <td>48.495083</td>\n",
       "      <td>87.797226</td>\n",
       "      <td>127.099365</td>\n",
       "    </tr>\n",
       "    <tr>\n",
       "      <th>33</th>\n",
       "      <td>75</td>\n",
       "      <td>47.872566</td>\n",
       "      <td>87.797226</td>\n",
       "      <td>127.721886</td>\n",
       "    </tr>\n",
       "    <tr>\n",
       "      <th>34</th>\n",
       "      <td>49</td>\n",
       "      <td>47.259609</td>\n",
       "      <td>87.797226</td>\n",
       "      <td>128.334839</td>\n",
       "    </tr>\n",
       "    <tr>\n",
       "      <th>35</th>\n",
       "      <td>55</td>\n",
       "      <td>46.655781</td>\n",
       "      <td>87.797226</td>\n",
       "      <td>128.938675</td>\n",
       "    </tr>\n",
       "    <tr>\n",
       "      <th>36</th>\n",
       "      <td>67</td>\n",
       "      <td>46.060688</td>\n",
       "      <td>87.797226</td>\n",
       "      <td>129.533768</td>\n",
       "    </tr>\n",
       "    <tr>\n",
       "      <th>37</th>\n",
       "      <td>47</td>\n",
       "      <td>45.473965</td>\n",
       "      <td>87.797226</td>\n",
       "      <td>130.120483</td>\n",
       "    </tr>\n",
       "    <tr>\n",
       "      <th>38</th>\n",
       "      <td>34</td>\n",
       "      <td>44.895260</td>\n",
       "      <td>87.797226</td>\n",
       "      <td>130.699188</td>\n",
       "    </tr>\n",
       "    <tr>\n",
       "      <th>39</th>\n",
       "      <td>34</td>\n",
       "      <td>44.324261</td>\n",
       "      <td>87.797226</td>\n",
       "      <td>131.270187</td>\n",
       "    </tr>\n",
       "    <tr>\n",
       "      <th>40</th>\n",
       "      <td>30</td>\n",
       "      <td>43.760666</td>\n",
       "      <td>87.797226</td>\n",
       "      <td>131.833786</td>\n",
       "    </tr>\n",
       "    <tr>\n",
       "      <th>41</th>\n",
       "      <td>25</td>\n",
       "      <td>43.204193</td>\n",
       "      <td>87.797226</td>\n",
       "      <td>132.390259</td>\n",
       "    </tr>\n",
       "    <tr>\n",
       "      <th>42</th>\n",
       "      <td>43</td>\n",
       "      <td>42.654579</td>\n",
       "      <td>87.797226</td>\n",
       "      <td>132.939880</td>\n",
       "    </tr>\n",
       "    <tr>\n",
       "      <th>43</th>\n",
       "      <td>41</td>\n",
       "      <td>42.111576</td>\n",
       "      <td>87.797226</td>\n",
       "      <td>133.482880</td>\n",
       "    </tr>\n",
       "    <tr>\n",
       "      <th>44</th>\n",
       "      <td>19</td>\n",
       "      <td>41.574951</td>\n",
       "      <td>87.797226</td>\n",
       "      <td>134.019501</td>\n",
       "    </tr>\n",
       "    <tr>\n",
       "      <th>45</th>\n",
       "      <td>18</td>\n",
       "      <td>41.044487</td>\n",
       "      <td>87.797226</td>\n",
       "      <td>134.549973</td>\n",
       "    </tr>\n",
       "    <tr>\n",
       "      <th>46</th>\n",
       "      <td>22</td>\n",
       "      <td>40.519970</td>\n",
       "      <td>87.797226</td>\n",
       "      <td>135.074478</td>\n",
       "    </tr>\n",
       "    <tr>\n",
       "      <th>47</th>\n",
       "      <td>20</td>\n",
       "      <td>40.001213</td>\n",
       "      <td>87.797226</td>\n",
       "      <td>135.593231</td>\n",
       "    </tr>\n",
       "    <tr>\n",
       "      <th>48</th>\n",
       "      <td>20</td>\n",
       "      <td>39.488026</td>\n",
       "      <td>87.797226</td>\n",
       "      <td>136.106430</td>\n",
       "    </tr>\n",
       "    <tr>\n",
       "      <th>49</th>\n",
       "      <td>22</td>\n",
       "      <td>38.980232</td>\n",
       "      <td>87.797226</td>\n",
       "      <td>136.614227</td>\n",
       "    </tr>\n",
       "    <tr>\n",
       "      <th>50</th>\n",
       "      <td>19</td>\n",
       "      <td>38.477669</td>\n",
       "      <td>87.797226</td>\n",
       "      <td>137.116791</td>\n",
       "    </tr>\n",
       "    <tr>\n",
       "      <th>51</th>\n",
       "      <td>21</td>\n",
       "      <td>37.980171</td>\n",
       "      <td>87.797226</td>\n",
       "      <td>137.614288</td>\n",
       "    </tr>\n",
       "    <tr>\n",
       "      <th>52</th>\n",
       "      <td>24</td>\n",
       "      <td>37.487595</td>\n",
       "      <td>87.797226</td>\n",
       "      <td>138.106857</td>\n",
       "    </tr>\n",
       "  </tbody>\n",
       "</table>\n",
       "</div>"
      ],
      "text/plain": [
       "      actual        p10        p50         p90\n",
       "week                                          \n",
       "31        94  49.127621  87.797226  126.466835\n",
       "32        61  48.495083  87.797226  127.099365\n",
       "33        75  47.872566  87.797226  127.721886\n",
       "34        49  47.259609  87.797226  128.334839\n",
       "35        55  46.655781  87.797226  128.938675\n",
       "36        67  46.060688  87.797226  129.533768\n",
       "37        47  45.473965  87.797226  130.120483\n",
       "38        34  44.895260  87.797226  130.699188\n",
       "39        34  44.324261  87.797226  131.270187\n",
       "40        30  43.760666  87.797226  131.833786\n",
       "41        25  43.204193  87.797226  132.390259\n",
       "42        43  42.654579  87.797226  132.939880\n",
       "43        41  42.111576  87.797226  133.482880\n",
       "44        19  41.574951  87.797226  134.019501\n",
       "45        18  41.044487  87.797226  134.549973\n",
       "46        22  40.519970  87.797226  135.074478\n",
       "47        20  40.001213  87.797226  135.593231\n",
       "48        20  39.488026  87.797226  136.106430\n",
       "49        22  38.980232  87.797226  136.614227\n",
       "50        19  38.477669  87.797226  137.116791\n",
       "51        21  37.980171  87.797226  137.614288\n",
       "52        24  37.487595  87.797226  138.106857"
      ]
     },
     "execution_count": 96,
     "metadata": {},
     "output_type": "execute_result"
    }
   ],
   "source": [
    "def FormatDate(data):\n",
    "    data['week'] = data['Timestamp'].apply(lambda x: x.isocalendar()[1])\n",
    "    data = data[data['week'] < 53].drop(columns = 'Timestamp')\n",
    "    return data\n",
    "\n",
    "results_df = pd.merge(actual_test_df.reset_index(),FormatDate(predictions_df['p10']), how='inner', left_on=['week'], right_on='week')\n",
    "for percentile in ['p50', 'p90']:\n",
    "    results_df = pd.merge(results_df, FormatDate(predictions_df[percentile]), how='inner', left_on=['week'], right_on='week')\n",
    "\n",
    "results_df = results_df[['week', 'actual', 'p10', 'p50', 'p90']]\n",
    "results_df = results_df.set_index('week')\n",
    "results_df"
   ]
  },
  {
   "cell_type": "markdown",
   "id": "ef6a5851",
   "metadata": {},
   "source": [
    "# So sánh dự đoán với kết quả thực tế"
   ]
  },
  {
   "cell_type": "code",
   "execution_count": 97,
   "id": "0c4fc7ba",
   "metadata": {},
   "outputs": [
    {
     "data": {
      "image/png": "[encoded data removed]",
      "text/plain": [
       "<Figure size 1728x432 with 1 Axes>"
      ]
     },
     "metadata": {},
     "output_type": "display_data"
    }
   ],
   "source": [
    "fig = plt.figure(figsize=(24,6))\n",
    "plt.plot(results_df['actual'], label='Actual data', linewidth=1, color='#AAAAAA', linestyle='--', alpha=0.8)\n",
    "plt.plot(results_df['p50'], label='Prediction median', color=colors[2], linewidth=1.5)\n",
    "p10 = results_df['p10']\n",
    "p90 = results_df['p90']\n",
    "plt.fill_between(p10.index, p10, p90, color=colors[2], alpha=0.1, label='80% confidence interval')\n",
    "plt.plot(results_df['p10'], label='Confidence interval lower bound', color=colors[2], linewidth=0.5, alpha=0.5)\n",
    "plt.plot(actual_train_df.loc[:, 'actual'], label='Historical data', linewidth=1, color='#AAAAAA', alpha=0.8)\n",
    "plt.legend(fontsize=14, ncol=5, loc='upper center')\n",
    "plt.show()"
   ]
  },
  {
   "cell_type": "markdown",
   "id": "c1dfbdea",
   "metadata": {},
   "source": [
    "# Xét thêm các sản phẩm khác"
   ]
  },
  {
   "cell_type": "code",
   "execution_count": 60,
   "id": "523bf110",
   "metadata": {},
   "outputs": [
    {
     "name": "stdout",
     "output_type": "stream",
     "text": [
      "arn:aws:forecast:eu-west-1:800285456211:forecast/Hanoi_retail_forecast_arima_forecast\n",
      "\n",
      "{'Forecast': {'Predictions': {'p10': [{'Timestamp': '2019-07-29T00:00:00', 'Value': -34.6298828125}, {'Timestamp': '2019-08-05T00:00:00', 'Value': -36.29903030395508}, {'Timestamp': '2019-08-12T00:00:00', 'Value': -37.89989471435547}, {'Timestamp': '2019-08-19T00:00:00', 'Value': -39.44023132324219}, {'Timestamp': '2019-08-26T00:00:00', 'Value': -40.92642593383789}, {'Timestamp': '2019-09-02T00:00:00', 'Value': -42.36381530761719}, {'Timestamp': '2019-09-09T00:00:00', 'Value': -43.75691223144531}, {'Timestamp': '2019-09-16T00:00:00', 'Value': -45.10957336425781}, {'Timestamp': '2019-09-23T00:00:00', 'Value': -46.425132751464844}, {'Timestamp': '2019-09-30T00:00:00', 'Value': -47.70648193359375}, {'Timestamp': '2019-10-07T00:00:00', 'Value': -48.95616149902344}, {'Timestamp': '2019-10-14T00:00:00', 'Value': -50.17640686035156}, {'Timestamp': '2019-10-21T00:00:00', 'Value': -51.369205474853516}, {'Timestamp': '2019-10-28T00:00:00', 'Value': -52.53633117675781}, {'Timestamp': '2019-11-04T00:00:00', 'Value': -53.67937088012695}, {'Timestamp': '2019-11-11T00:00:00', 'Value': -54.79976272583008}, {'Timestamp': '2019-11-18T00:00:00', 'Value': -55.89879608154297}, {'Timestamp': '2019-11-25T00:00:00', 'Value': -56.9776496887207}, {'Timestamp': '2019-12-02T00:00:00', 'Value': -58.03739547729492}, {'Timestamp': '2019-12-09T00:00:00', 'Value': -59.07901382446289}, {'Timestamp': '2019-12-16T00:00:00', 'Value': -60.10340881347656}, {'Timestamp': '2019-12-23T00:00:00', 'Value': -61.11140060424805}], 'p50': [{'Timestamp': '2019-07-29T00:00:00', 'Value': 2.8683178424835205}, {'Timestamp': '2019-08-05T00:00:00', 'Value': 2.8683178424835205}, {'Timestamp': '2019-08-12T00:00:00', 'Value': 2.8683178424835205}, {'Timestamp': '2019-08-19T00:00:00', 'Value': 2.8683178424835205}, {'Timestamp': '2019-08-26T00:00:00', 'Value': 2.8683178424835205}, {'Timestamp': '2019-09-02T00:00:00', 'Value': 2.8683178424835205}, {'Timestamp': '2019-09-09T00:00:00', 'Value': 2.8683178424835205}, {'Timestamp': '2019-09-16T00:00:00', 'Value': 2.8683178424835205}, {'Timestamp': '2019-09-23T00:00:00', 'Value': 2.8683178424835205}, {'Timestamp': '2019-09-30T00:00:00', 'Value': 2.8683178424835205}, {'Timestamp': '2019-10-07T00:00:00', 'Value': 2.8683178424835205}, {'Timestamp': '2019-10-14T00:00:00', 'Value': 2.8683178424835205}, {'Timestamp': '2019-10-21T00:00:00', 'Value': 2.8683178424835205}, {'Timestamp': '2019-10-28T00:00:00', 'Value': 2.8683178424835205}, {'Timestamp': '2019-11-04T00:00:00', 'Value': 2.8683178424835205}, {'Timestamp': '2019-11-11T00:00:00', 'Value': 2.8683178424835205}, {'Timestamp': '2019-11-18T00:00:00', 'Value': 2.8683178424835205}, {'Timestamp': '2019-11-25T00:00:00', 'Value': 2.8683178424835205}, {'Timestamp': '2019-12-02T00:00:00', 'Value': 2.8683178424835205}, {'Timestamp': '2019-12-09T00:00:00', 'Value': 2.8683178424835205}, {'Timestamp': '2019-12-16T00:00:00', 'Value': 2.8683178424835205}, {'Timestamp': '2019-12-23T00:00:00', 'Value': 2.8683178424835205}], 'p90': [{'Timestamp': '2019-07-29T00:00:00', 'Value': 40.36651611328125}, {'Timestamp': '2019-08-05T00:00:00', 'Value': 42.03566360473633}, {'Timestamp': '2019-08-12T00:00:00', 'Value': 43.636531829833984}, {'Timestamp': '2019-08-19T00:00:00', 'Value': 45.1768684387207}, {'Timestamp': '2019-08-26T00:00:00', 'Value': 46.663063049316406}, {'Timestamp': '2019-09-02T00:00:00', 'Value': 48.10044860839844}, {'Timestamp': '2019-09-09T00:00:00', 'Value': 49.49354553222656}, {'Timestamp': '2019-09-16T00:00:00', 'Value': 50.84621047973633}, {'Timestamp': '2019-09-23T00:00:00', 'Value': 52.16176986694336}, {'Timestamp': '2019-09-30T00:00:00', 'Value': 53.443119049072266}, {'Timestamp': '2019-10-07T00:00:00', 'Value': 54.69279479980469}, {'Timestamp': '2019-10-14T00:00:00', 'Value': 55.91304016113281}, {'Timestamp': '2019-10-21T00:00:00', 'Value': 57.10584259033203}, {'Timestamp': '2019-10-28T00:00:00', 'Value': 58.27296447753906}, {'Timestamp': '2019-11-04T00:00:00', 'Value': 59.41600799560547}, {'Timestamp': '2019-11-11T00:00:00', 'Value': 60.53639602661133}, {'Timestamp': '2019-11-18T00:00:00', 'Value': 61.63542938232422}, {'Timestamp': '2019-11-25T00:00:00', 'Value': 62.71428298950195}, {'Timestamp': '2019-12-02T00:00:00', 'Value': 63.77403259277344}, {'Timestamp': '2019-12-09T00:00:00', 'Value': 64.8156509399414}, {'Timestamp': '2019-12-16T00:00:00', 'Value': 65.84004211425781}, {'Timestamp': '2019-12-23T00:00:00', 'Value': 66.84803771972656}]}}, 'ResponseMetadata': {'RequestId': '54808d58-fb71-487f-85d2-06ef60bf55b6', 'HTTPStatusCode': 200, 'HTTPHeaders': {'content-type': 'application/x-amz-json-1.1', 'date': 'Fri, 14 May 2021 13:21:05 GMT', 'x-amzn-requestid': '54808d58-fb71-487f-85d2-06ef60bf55b6', 'content-length': '4188', 'connection': 'keep-alive'}, 'RetryAttempts': 0}}\n"
     ]
    }
   ],
   "source": [
    "shop_id = '510068'\n",
    "\n",
    "print(forecast_arn)\n",
    "print()\n",
    "forecastResponse = forecastquery.query_forecast(\n",
    "    ForecastArn=forecast_arn,\n",
    "    Filters={'item_id': shop_id}\n",
    ")\n",
    "print(forecastResponse)"
   ]
  },
  {
   "cell_type": "code",
   "execution_count": 63,
   "id": "6946a043",
   "metadata": {},
   "outputs": [],
   "source": [
    "item_id = 510068\n",
    "# Samsung A7\n",
    "actual_train_df = pd.read_csv(f'{PROCESSED_DATA}/train.csv', names=['timestamp','item_id','actual'], parse_dates=[0])\n",
    "actual_train_df = actual_train_df[actual_train_df['item_id'] == item_id]\n",
    "actual_train_df = Format(actual_train_df)\n",
    "# actual_train_df = formatdataframe(actual_train_df)\n",
    "actual_test_df = pd.read_csv(f'{PROCESSED_DATA}/test.csv', names=['timestamp','item_id','actual'], parse_dates=[0]) \n",
    "actual_test_df = actual_test_df[actual_test_df['item_id'] == item_id]\n",
    "actual_test_df = Format(actual_test_df)\n",
    "actual_test_df = actual_test_df.loc[2:]\n",
    "# actual_test_df\n",
    "# actual_train_df"
   ]
  },
  {
   "cell_type": "code",
   "execution_count": 64,
   "id": "6c71c521",
   "metadata": {},
   "outputs": [],
   "source": [
    "predictions_df = dict()\n",
    "for percentile in ['p10', 'p50', 'p90']:\n",
    "    predictions_df.update({percentile: pd.DataFrame.from_dict(forecastResponse['Forecast']['Predictions'][percentile])})\n",
    "    predictions_df[percentile]['Timestamp'] = pd.to_datetime(predictions_df[percentile]['Timestamp'])\n",
    "    predictions_df[percentile].columns = ['Timestamp', percentile]"
   ]
  },
  {
   "cell_type": "code",
   "execution_count": 65,
   "id": "a03e6fe2",
   "metadata": {},
   "outputs": [
    {
     "data": {
      "text/html": [
       "<div>\n",
       "<style scoped>\n",
       "    .dataframe tbody tr th:only-of-type {\n",
       "        vertical-align: middle;\n",
       "    }\n",
       "\n",
       "    .dataframe tbody tr th {\n",
       "        vertical-align: top;\n",
       "    }\n",
       "\n",
       "    .dataframe thead th {\n",
       "        text-align: right;\n",
       "    }\n",
       "</style>\n",
       "<table border=\"1\" class=\"dataframe\">\n",
       "  <thead>\n",
       "    <tr style=\"text-align: right;\">\n",
       "      <th></th>\n",
       "      <th>actual</th>\n",
       "      <th>p10</th>\n",
       "      <th>p50</th>\n",
       "      <th>p90</th>\n",
       "    </tr>\n",
       "    <tr>\n",
       "      <th>week</th>\n",
       "      <th></th>\n",
       "      <th></th>\n",
       "      <th></th>\n",
       "      <th></th>\n",
       "    </tr>\n",
       "  </thead>\n",
       "  <tbody>\n",
       "    <tr>\n",
       "      <th>31</th>\n",
       "      <td>3</td>\n",
       "      <td>-34.629883</td>\n",
       "      <td>2.868318</td>\n",
       "      <td>40.366516</td>\n",
       "    </tr>\n",
       "    <tr>\n",
       "      <th>32</th>\n",
       "      <td>6</td>\n",
       "      <td>-36.299030</td>\n",
       "      <td>2.868318</td>\n",
       "      <td>42.035664</td>\n",
       "    </tr>\n",
       "    <tr>\n",
       "      <th>33</th>\n",
       "      <td>6</td>\n",
       "      <td>-37.899895</td>\n",
       "      <td>2.868318</td>\n",
       "      <td>43.636532</td>\n",
       "    </tr>\n",
       "    <tr>\n",
       "      <th>34</th>\n",
       "      <td>1</td>\n",
       "      <td>-39.440231</td>\n",
       "      <td>2.868318</td>\n",
       "      <td>45.176868</td>\n",
       "    </tr>\n",
       "    <tr>\n",
       "      <th>35</th>\n",
       "      <td>2</td>\n",
       "      <td>-40.926426</td>\n",
       "      <td>2.868318</td>\n",
       "      <td>46.663063</td>\n",
       "    </tr>\n",
       "    <tr>\n",
       "      <th>36</th>\n",
       "      <td>5</td>\n",
       "      <td>-42.363815</td>\n",
       "      <td>2.868318</td>\n",
       "      <td>48.100449</td>\n",
       "    </tr>\n",
       "    <tr>\n",
       "      <th>37</th>\n",
       "      <td>12</td>\n",
       "      <td>-43.756912</td>\n",
       "      <td>2.868318</td>\n",
       "      <td>49.493546</td>\n",
       "    </tr>\n",
       "    <tr>\n",
       "      <th>38</th>\n",
       "      <td>4</td>\n",
       "      <td>-45.109573</td>\n",
       "      <td>2.868318</td>\n",
       "      <td>50.846210</td>\n",
       "    </tr>\n",
       "    <tr>\n",
       "      <th>39</th>\n",
       "      <td>4</td>\n",
       "      <td>-46.425133</td>\n",
       "      <td>2.868318</td>\n",
       "      <td>52.161770</td>\n",
       "    </tr>\n",
       "    <tr>\n",
       "      <th>40</th>\n",
       "      <td>3</td>\n",
       "      <td>-47.706482</td>\n",
       "      <td>2.868318</td>\n",
       "      <td>53.443119</td>\n",
       "    </tr>\n",
       "    <tr>\n",
       "      <th>42</th>\n",
       "      <td>4</td>\n",
       "      <td>-50.176407</td>\n",
       "      <td>2.868318</td>\n",
       "      <td>55.913040</td>\n",
       "    </tr>\n",
       "    <tr>\n",
       "      <th>43</th>\n",
       "      <td>4</td>\n",
       "      <td>-51.369205</td>\n",
       "      <td>2.868318</td>\n",
       "      <td>57.105843</td>\n",
       "    </tr>\n",
       "    <tr>\n",
       "      <th>44</th>\n",
       "      <td>1</td>\n",
       "      <td>-52.536331</td>\n",
       "      <td>2.868318</td>\n",
       "      <td>58.272964</td>\n",
       "    </tr>\n",
       "    <tr>\n",
       "      <th>49</th>\n",
       "      <td>1</td>\n",
       "      <td>-58.037395</td>\n",
       "      <td>2.868318</td>\n",
       "      <td>63.774033</td>\n",
       "    </tr>\n",
       "    <tr>\n",
       "      <th>50</th>\n",
       "      <td>2</td>\n",
       "      <td>-59.079014</td>\n",
       "      <td>2.868318</td>\n",
       "      <td>64.815651</td>\n",
       "    </tr>\n",
       "    <tr>\n",
       "      <th>51</th>\n",
       "      <td>2</td>\n",
       "      <td>-60.103409</td>\n",
       "      <td>2.868318</td>\n",
       "      <td>65.840042</td>\n",
       "    </tr>\n",
       "    <tr>\n",
       "      <th>52</th>\n",
       "      <td>1</td>\n",
       "      <td>-61.111401</td>\n",
       "      <td>2.868318</td>\n",
       "      <td>66.848038</td>\n",
       "    </tr>\n",
       "  </tbody>\n",
       "</table>\n",
       "</div>"
      ],
      "text/plain": [
       "      actual        p10       p50        p90\n",
       "week                                        \n",
       "31         3 -34.629883  2.868318  40.366516\n",
       "32         6 -36.299030  2.868318  42.035664\n",
       "33         6 -37.899895  2.868318  43.636532\n",
       "34         1 -39.440231  2.868318  45.176868\n",
       "35         2 -40.926426  2.868318  46.663063\n",
       "36         5 -42.363815  2.868318  48.100449\n",
       "37        12 -43.756912  2.868318  49.493546\n",
       "38         4 -45.109573  2.868318  50.846210\n",
       "39         4 -46.425133  2.868318  52.161770\n",
       "40         3 -47.706482  2.868318  53.443119\n",
       "42         4 -50.176407  2.868318  55.913040\n",
       "43         4 -51.369205  2.868318  57.105843\n",
       "44         1 -52.536331  2.868318  58.272964\n",
       "49         1 -58.037395  2.868318  63.774033\n",
       "50         2 -59.079014  2.868318  64.815651\n",
       "51         2 -60.103409  2.868318  65.840042\n",
       "52         1 -61.111401  2.868318  66.848038"
      ]
     },
     "execution_count": 65,
     "metadata": {},
     "output_type": "execute_result"
    }
   ],
   "source": [
    "def FormatDate(data):\n",
    "    data['week'] = data['Timestamp'].apply(lambda x: x.isocalendar()[1])\n",
    "    data = data[data['week'] < 53].drop(columns = 'Timestamp')\n",
    "    return data\n",
    "\n",
    "results_df = pd.merge(actual_test_df.reset_index(),FormatDate(predictions_df['p10']), how='inner', left_on=['week'], right_on='week')\n",
    "for percentile in ['p50', 'p90']:\n",
    "    results_df = pd.merge(results_df, FormatDate(predictions_df[percentile]), how='inner', left_on=['week'], right_on='week')\n",
    "\n",
    "results_df = results_df[['week', 'actual', 'p10', 'p50', 'p90']]\n",
    "results_df = results_df.set_index('week')\n",
    "results_df"
   ]
  },
  {
   "cell_type": "code",
   "execution_count": 66,
   "id": "c4d4ddfc",
   "metadata": {},
   "outputs": [
    {
     "data": {
      "image/png": "[encoded data removed]",
      "text/plain": [
       "<Figure size 1728x432 with 1 Axes>"
      ]
     },
     "metadata": {},
     "output_type": "display_data"
    }
   ],
   "source": [
    "fig = plt.figure(figsize=(24,6))\n",
    "plt.plot(results_df['actual'], label='Actual data', linewidth=1, color='#AAAAAA', linestyle='--', alpha=0.8)\n",
    "plt.plot(results_df['p50'], label='Prediction median', color=colors[2], linewidth=1.5)\n",
    "p10 = results_df['p10']\n",
    "p90 = results_df['p90']\n",
    "plt.fill_between(p10.index, p10, p90, color=colors[2], alpha=0.1, label='80% confidence interval')\n",
    "plt.plot(results_df['p10'], label='Confidence interval lower bound', color=colors[2], linewidth=0.5, alpha=0.5)\n",
    "plt.plot(actual_train_df.loc[:, 'actual'], label='Historical data', linewidth=1, color='#AAAAAA', alpha=0.8)\n",
    "plt.legend(fontsize=14, ncol=5, loc='upper center')\n",
    "plt.show()"
   ]
  },
  {
   "cell_type": "code",
   "execution_count": null,
   "id": "00da1aaa",
   "metadata": {},
   "outputs": [],
   "source": []
  }
 ],
 "metadata": {
  "kernelspec": {
   "display_name": "conda_python3",
   "language": "python",
   "name": "conda_python3"
  },
  "language_info": {
   "codemirror_mode": {
    "name": "ipython",
    "version": 3
   },
   "file_extension": ".py",
   "mimetype": "text/x-python",
   "name": "python",
   "nbconvert_exporter": "python",
   "pygments_lexer": "ipython3",
   "version": "3.6.13"
  }
 },
 "nbformat": 4,
 "nbformat_minor": 5
}

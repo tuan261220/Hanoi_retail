{
 "cells": [
  {
   "cell_type": "code",
   "execution_count": 1,
   "id": "f0b469a2",
   "metadata": {},
   "outputs": [],
   "source": [
    "import boto3\n",
    "import botocore.exceptions\n",
    "import dateutil.parser\n",
    "import json\n",
    "import matplotlib.pyplot as plt\n",
    "import numpy as np\n",
    "import os\n",
    "import pandas as pd\n",
    "import sagemaker\n",
    "import sys\n",
    "import time\n",
    "\n",
    "from datetime import datetime\n",
    "from sagemaker import get_execution_role\n",
    "\n",
    "%matplotlib inline\n",
    "plt.style.use('Solarize_Light2')\n",
    "prop_cycle = plt.rcParams['axes.prop_cycle']\n",
    "colors = prop_cycle.by_key()['color']"
   ]
  },
  {
   "cell_type": "code",
   "execution_count": 2,
   "id": "4e3c92f5",
   "metadata": {},
   "outputs": [],
   "source": [
    "BUCKET = sagemaker.Session().default_bucket()\n",
    "PREFIX = 'Hanoi_retail'\n",
    "region = 'eu-west-1'\n",
    "\n",
    "session = boto3.Session(region_name=region) \n",
    "forecast = session.client(service_name='forecast') \n",
    "forecastquery = session.client(service_name='forecastquery')\n",
    "role = get_execution_role()"
   ]
  },
  {
   "cell_type": "code",
   "execution_count": 3,
   "id": "a2dd2a92",
   "metadata": {},
   "outputs": [],
   "source": [
    "# Paths to local data:\n",
    "DATA = 'data'\n",
    "PROCESSED_DATA = 'data/processed'\n",
    "\n",
    "os.makedirs(PROCESSED_DATA, exist_ok=True)"
   ]
  },
  {
   "cell_type": "code",
   "execution_count": 32,
   "id": "73aeb464",
   "metadata": {},
   "outputs": [
    {
     "data": {
      "text/html": [
       "<div>\n",
       "<style scoped>\n",
       "    .dataframe tbody tr th:only-of-type {\n",
       "        vertical-align: middle;\n",
       "    }\n",
       "\n",
       "    .dataframe tbody tr th {\n",
       "        vertical-align: top;\n",
       "    }\n",
       "\n",
       "    .dataframe thead th {\n",
       "        text-align: right;\n",
       "    }\n",
       "</style>\n",
       "<table border=\"1\" class=\"dataframe\">\n",
       "  <thead>\n",
       "    <tr style=\"text-align: right;\">\n",
       "      <th></th>\n",
       "      <th>timestamp</th>\n",
       "      <th>item_id</th>\n",
       "      <th>qty</th>\n",
       "    </tr>\n",
       "  </thead>\n",
       "  <tbody>\n",
       "    <tr>\n",
       "      <th>0</th>\n",
       "      <td>2019-01-01</td>\n",
       "      <td>271554</td>\n",
       "      <td>2</td>\n",
       "    </tr>\n",
       "    <tr>\n",
       "      <th>1</th>\n",
       "      <td>2019-01-01</td>\n",
       "      <td>495366</td>\n",
       "      <td>1</td>\n",
       "    </tr>\n",
       "    <tr>\n",
       "      <th>2</th>\n",
       "      <td>2019-01-02</td>\n",
       "      <td>495360</td>\n",
       "      <td>1</td>\n",
       "    </tr>\n",
       "    <tr>\n",
       "      <th>3</th>\n",
       "      <td>2019-01-03</td>\n",
       "      <td>525764</td>\n",
       "      <td>165</td>\n",
       "    </tr>\n",
       "    <tr>\n",
       "      <th>4</th>\n",
       "      <td>2019-01-05</td>\n",
       "      <td>517242</td>\n",
       "      <td>1</td>\n",
       "    </tr>\n",
       "  </tbody>\n",
       "</table>\n",
       "</div>"
      ],
      "text/plain": [
       "   timestamp  item_id  qty\n",
       "0 2019-01-01   271554    2\n",
       "1 2019-01-01   495366    1\n",
       "2 2019-01-02   495360    1\n",
       "3 2019-01-03   525764  165\n",
       "4 2019-01-05   517242    1"
      ]
     },
     "execution_count": 32,
     "metadata": {},
     "output_type": "execute_result"
    }
   ],
   "source": [
    "hourly_df = pd.read_csv(os.path.join(DATA, 'forecast.csv'), header=None, parse_dates=[0])\n",
    "hourly_df.columns = ['timestamp','item_id','qty']\n",
    "hourly_df.head()"
   ]
  },
  {
   "cell_type": "code",
   "execution_count": 33,
   "id": "3fa875d9",
   "metadata": {},
   "outputs": [
    {
     "name": "stdout",
     "output_type": "stream",
     "text": [
      "2019-01-01 00:00:00\n",
      "2019-12-31 00:00:00\n"
     ]
    }
   ],
   "source": [
    "print(np.min(hourly_df['timestamp']))\n",
    "print(np.max(hourly_df['timestamp']))"
   ]
  },
  {
   "cell_type": "code",
   "execution_count": 41,
   "id": "402171ff",
   "metadata": {},
   "outputs": [],
   "source": [
    "training_start = pd.to_datetime('2019-01-01')\n",
    "training_end   = pd.to_datetime('2019-07-28')\n",
    "testing_start  = pd.to_datetime('2019-07-29')\n",
    "testing_end    = pd.to_datetime('2019-12-31')"
   ]
  },
  {
   "cell_type": "code",
   "execution_count": 42,
   "id": "e3d94823",
   "metadata": {},
   "outputs": [
    {
     "data": {
      "text/html": [
       "<div>\n",
       "<style scoped>\n",
       "    .dataframe tbody tr th:only-of-type {\n",
       "        vertical-align: middle;\n",
       "    }\n",
       "\n",
       "    .dataframe tbody tr th {\n",
       "        vertical-align: top;\n",
       "    }\n",
       "\n",
       "    .dataframe thead th {\n",
       "        text-align: right;\n",
       "    }\n",
       "</style>\n",
       "<table border=\"1\" class=\"dataframe\">\n",
       "  <thead>\n",
       "    <tr style=\"text-align: right;\">\n",
       "      <th></th>\n",
       "      <th>timestamp</th>\n",
       "      <th>item_id</th>\n",
       "      <th>qty</th>\n",
       "    </tr>\n",
       "  </thead>\n",
       "  <tbody>\n",
       "    <tr>\n",
       "      <th>0</th>\n",
       "      <td>2019-01-01</td>\n",
       "      <td>271554</td>\n",
       "      <td>2</td>\n",
       "    </tr>\n",
       "    <tr>\n",
       "      <th>1</th>\n",
       "      <td>2019-01-01</td>\n",
       "      <td>495366</td>\n",
       "      <td>1</td>\n",
       "    </tr>\n",
       "    <tr>\n",
       "      <th>2</th>\n",
       "      <td>2019-01-02</td>\n",
       "      <td>495360</td>\n",
       "      <td>1</td>\n",
       "    </tr>\n",
       "    <tr>\n",
       "      <th>3</th>\n",
       "      <td>2019-01-03</td>\n",
       "      <td>525764</td>\n",
       "      <td>165</td>\n",
       "    </tr>\n",
       "    <tr>\n",
       "      <th>4</th>\n",
       "      <td>2019-01-05</td>\n",
       "      <td>517242</td>\n",
       "      <td>1</td>\n",
       "    </tr>\n",
       "    <tr>\n",
       "      <th>...</th>\n",
       "      <td>...</td>\n",
       "      <td>...</td>\n",
       "      <td>...</td>\n",
       "    </tr>\n",
       "    <tr>\n",
       "      <th>15013</th>\n",
       "      <td>2019-12-15</td>\n",
       "      <td>271554</td>\n",
       "      <td>1</td>\n",
       "    </tr>\n",
       "    <tr>\n",
       "      <th>15014</th>\n",
       "      <td>2019-12-17</td>\n",
       "      <td>395581</td>\n",
       "      <td>1</td>\n",
       "    </tr>\n",
       "    <tr>\n",
       "      <th>15015</th>\n",
       "      <td>2019-12-24</td>\n",
       "      <td>271554</td>\n",
       "      <td>1</td>\n",
       "    </tr>\n",
       "    <tr>\n",
       "      <th>15016</th>\n",
       "      <td>2019-12-25</td>\n",
       "      <td>269765</td>\n",
       "      <td>1</td>\n",
       "    </tr>\n",
       "    <tr>\n",
       "      <th>15017</th>\n",
       "      <td>2019-12-27</td>\n",
       "      <td>495366</td>\n",
       "      <td>1</td>\n",
       "    </tr>\n",
       "  </tbody>\n",
       "</table>\n",
       "<p>15018 rows × 3 columns</p>\n",
       "</div>"
      ],
      "text/plain": [
       "       timestamp  item_id  qty\n",
       "0     2019-01-01   271554    2\n",
       "1     2019-01-01   495366    1\n",
       "2     2019-01-02   495360    1\n",
       "3     2019-01-03   525764  165\n",
       "4     2019-01-05   517242    1\n",
       "...          ...      ...  ...\n",
       "15013 2019-12-15   271554    1\n",
       "15014 2019-12-17   395581    1\n",
       "15015 2019-12-24   271554    1\n",
       "15016 2019-12-25   269765    1\n",
       "15017 2019-12-27   495366    1\n",
       "\n",
       "[15018 rows x 3 columns]"
      ]
     },
     "execution_count": 42,
     "metadata": {},
     "output_type": "execute_result"
    }
   ],
   "source": [
    "hourly_df"
   ]
  },
  {
   "cell_type": "code",
   "execution_count": 43,
   "id": "c8f346fc",
   "metadata": {},
   "outputs": [],
   "source": [
    "training_df = hourly_df[(hourly_df['timestamp'] >=training_start) & (hourly_df['timestamp'] < training_end)]\n",
    "testing_df= hourly_df[(hourly_df['timestamp'] >=testing_start) & (hourly_df['timestamp'] < testing_end)]"
   ]
  },
  {
   "cell_type": "code",
   "execution_count": 44,
   "id": "bc0e747e",
   "metadata": {},
   "outputs": [],
   "source": [
    "training_df.to_csv(f\"{PROCESSED_DATA}/train.csv\", header=False, index=False)\n",
    "testing_df.to_csv(f\"{PROCESSED_DATA}/test.csv\", header=False, index=False)"
   ]
  },
  {
   "cell_type": "code",
   "execution_count": 45,
   "id": "edb59e63",
   "metadata": {},
   "outputs": [
    {
     "name": "stdout",
     "output_type": "stream",
     "text": [
      "total 296K\n",
      "-rw-rw-r-- 1 ec2-user ec2-user  54K May 12 14:25 test.csv\n",
      "-rw-rw-r-- 1 ec2-user ec2-user 239K May 12 14:25 train.csv\n"
     ]
    }
   ],
   "source": [
    "\n",
    "!ls -lh $PROCESSED_DATA/"
   ]
  },
  {
   "cell_type": "code",
   "execution_count": 46,
   "id": "e00a74ca",
   "metadata": {},
   "outputs": [],
   "source": [
    "KEY = f'{PREFIX}/train.csv'\n",
    "boto3.Session().resource('s3').Bucket(BUCKET).Object(KEY).upload_file(f'{PROCESSED_DATA}/train.csv')"
   ]
  },
  {
   "cell_type": "code",
   "execution_count": 47,
   "id": "d5ced715",
   "metadata": {},
   "outputs": [],
   "source": [
    "DATASET_FREQUENCY = \"D\" \n",
    "TIMESTAMP_FORMAT = \"yyyy-MM-dd\""
   ]
  },
  {
   "cell_type": "code",
   "execution_count": 48,
   "id": "2b81fdf8",
   "metadata": {},
   "outputs": [],
   "source": [
    "project = 'Hanoi_retail_forecast'\n",
    "datasetName = project + '_ds'\n",
    "datasetGroupName = project + '_dsg'\n",
    "s3DataPath = \"s3://\" + BUCKET + \"/\" + KEY"
   ]
  },
  {
   "cell_type": "code",
   "execution_count": 49,
   "id": "1d8ab353",
   "metadata": {},
   "outputs": [
    {
     "name": "stdout",
     "output_type": "stream",
     "text": [
      "- Dataset group name: Hanoi_retail_forecast_dsg\n",
      "- Dataset group ARN: arn:aws:forecast:eu-west-1:800285456211:dataset-group/Hanoi_retail_forecast_dsg\n",
      "CPU times: user 13.2 ms, sys: 0 ns, total: 13.2 ms\n",
      "Wall time: 80.6 ms\n"
     ]
    }
   ],
   "source": [
    "%%time\n",
    "\n",
    "# Let's try to create a dataset group:\n",
    "try:\n",
    "    create_dataset_group_response = forecast.create_dataset_group(\n",
    "        DatasetGroupName=datasetGroupName,\n",
    "        Domain=\"CUSTOM\",\n",
    "    )\n",
    "    datasetGroupArn = create_dataset_group_response['DatasetGroupArn']\n",
    "    \n",
    "except Exception as e:\n",
    "    error_code = e.response['Error']['Code']\n",
    "    \n",
    "    # If the dataset group already exists, we get its ARN:\n",
    "    if (error_code == 'ResourceAlreadyExistsException'):\n",
    "        print('A dataset group with this name already exists, you can use it to create and ingest new datasets')\n",
    "        \n",
    "        # List all the existing dataset groups:\n",
    "        forecast_dsg_list = forecast.list_dataset_groups()\n",
    "\n",
    "        # Loop through all the Forecast dataset groups:\n",
    "        for dsg in forecast_dsg_list['DatasetGroups']:\n",
    "            # Get the project name (the string after the first delimiter in the ARN)\n",
    "            dsg_name = dsg['DatasetGroupArn'].split('/')[1]\n",
    "\n",
    "            # Once we find it, we store the ARN and break out of the loop:\n",
    "            if (dsg_name == datasetGroupName):\n",
    "                datasetGroupArn = dsg['DatasetGroupArn']\n",
    "                break\n",
    "                \n",
    "    else:\n",
    "        raise\n",
    "        \n",
    "print(f'- Dataset group name: {datasetGroupName}')\n",
    "print(f'- Dataset group ARN: {datasetGroupArn}')"
   ]
  },
  {
   "cell_type": "code",
   "execution_count": 50,
   "id": "cd33c0f0",
   "metadata": {},
   "outputs": [
    {
     "data": {
      "text/plain": [
       "{'DatasetGroupName': 'Hanoi_retail_forecast_dsg',\n",
       " 'DatasetGroupArn': 'arn:aws:forecast:eu-west-1:800285456211:dataset-group/Hanoi_retail_forecast_dsg',\n",
       " 'DatasetArns': [],\n",
       " 'Domain': 'CUSTOM',\n",
       " 'Status': 'ACTIVE',\n",
       " 'CreationTime': datetime.datetime(2021, 5, 12, 14, 27, 14, 921000, tzinfo=tzlocal()),\n",
       " 'LastModificationTime': datetime.datetime(2021, 5, 12, 14, 27, 14, 921000, tzinfo=tzlocal()),\n",
       " 'ResponseMetadata': {'RequestId': 'eec3ae50-6806-464c-b352-4e7f62d4facd',\n",
       "  'HTTPStatusCode': 200,\n",
       "  'HTTPHeaders': {'content-type': 'application/x-amz-json-1.1',\n",
       "   'date': 'Wed, 12 May 2021 14:27:20 GMT',\n",
       "   'x-amzn-requestid': 'eec3ae50-6806-464c-b352-4e7f62d4facd',\n",
       "   'content-length': '273',\n",
       "   'connection': 'keep-alive'},\n",
       "  'RetryAttempts': 0}}"
      ]
     },
     "execution_count": 50,
     "metadata": {},
     "output_type": "execute_result"
    }
   ],
   "source": [
    "forecast.describe_dataset_group(DatasetGroupArn=datasetGroupArn)"
   ]
  },
  {
   "cell_type": "code",
   "execution_count": 51,
   "id": "62d48a3c",
   "metadata": {},
   "outputs": [],
   "source": [
    "schema = {\n",
    "   \"Attributes\": [\n",
    "      { \"AttributeName\": \"timestamp\",    \"AttributeType\": \"timestamp\" },\n",
    "      { \"AttributeName\": \"item_id\",      \"AttributeType\": \"string\"    },\n",
    "        { \"AttributeName\": \"target_value\", \"AttributeType\": \"float\"     }\n",
    "   ]\n",
    "}"
   ]
  },
  {
   "cell_type": "code",
   "execution_count": 52,
   "id": "849eb0ed",
   "metadata": {},
   "outputs": [
    {
     "data": {
      "text/html": [
       "<div>\n",
       "<style scoped>\n",
       "    .dataframe tbody tr th:only-of-type {\n",
       "        vertical-align: middle;\n",
       "    }\n",
       "\n",
       "    .dataframe tbody tr th {\n",
       "        vertical-align: top;\n",
       "    }\n",
       "\n",
       "    .dataframe thead th {\n",
       "        text-align: right;\n",
       "    }\n",
       "</style>\n",
       "<table border=\"1\" class=\"dataframe\">\n",
       "  <thead>\n",
       "    <tr style=\"text-align: right;\">\n",
       "      <th></th>\n",
       "      <th>timestamp</th>\n",
       "      <th>item_id</th>\n",
       "      <th>qty</th>\n",
       "    </tr>\n",
       "  </thead>\n",
       "  <tbody>\n",
       "    <tr>\n",
       "      <th>0</th>\n",
       "      <td>2019-01-01</td>\n",
       "      <td>271554</td>\n",
       "      <td>2</td>\n",
       "    </tr>\n",
       "    <tr>\n",
       "      <th>1</th>\n",
       "      <td>2019-01-01</td>\n",
       "      <td>495366</td>\n",
       "      <td>1</td>\n",
       "    </tr>\n",
       "    <tr>\n",
       "      <th>2</th>\n",
       "      <td>2019-01-02</td>\n",
       "      <td>495360</td>\n",
       "      <td>1</td>\n",
       "    </tr>\n",
       "    <tr>\n",
       "      <th>3</th>\n",
       "      <td>2019-01-03</td>\n",
       "      <td>525764</td>\n",
       "      <td>165</td>\n",
       "    </tr>\n",
       "    <tr>\n",
       "      <th>4</th>\n",
       "      <td>2019-01-05</td>\n",
       "      <td>517242</td>\n",
       "      <td>1</td>\n",
       "    </tr>\n",
       "  </tbody>\n",
       "</table>\n",
       "</div>"
      ],
      "text/plain": [
       "   timestamp  item_id  qty\n",
       "0 2019-01-01   271554    2\n",
       "1 2019-01-01   495366    1\n",
       "2 2019-01-02   495360    1\n",
       "3 2019-01-03   525764  165\n",
       "4 2019-01-05   517242    1"
      ]
     },
     "execution_count": 52,
     "metadata": {},
     "output_type": "execute_result"
    }
   ],
   "source": [
    "training_df.head()"
   ]
  },
  {
   "cell_type": "code",
   "execution_count": 53,
   "id": "4fea36e4",
   "metadata": {},
   "outputs": [
    {
     "name": "stdout",
     "output_type": "stream",
     "text": [
      "- Dataset name: Hanoi_retail_forecast_ds\n",
      "- Dataset ARN: arn:aws:forecast:eu-west-1:800285456211:dataset/Hanoi_retail_forecast_ds\n",
      "CPU times: user 4.9 ms, sys: 0 ns, total: 4.9 ms\n",
      "Wall time: 58.6 ms\n"
     ]
    }
   ],
   "source": [
    "%%time \n",
    "\n",
    "try:\n",
    "    response = forecast.create_dataset(\n",
    "        Domain='CUSTOM',\n",
    "        DatasetType='TARGET_TIME_SERIES',\n",
    "        DatasetName=datasetName,\n",
    "        DataFrequency=DATASET_FREQUENCY, \n",
    "        Schema=schema\n",
    "    )\n",
    "    datasetArn = response['DatasetArn']\n",
    "    \n",
    "except Exception as e:\n",
    "    error_code = e.response['Error']['Code']\n",
    "\n",
    "    # If the dataset group already exists, we get its ARN:\n",
    "    if (error_code == 'ResourceAlreadyExistsException'):\n",
    "        print('A dataset with this name already exists, you can use it to ingest new data into it:')\n",
    "        \n",
    "        # List all the existing datasets:\n",
    "        forecast_ds_list = forecast.list_datasets()\n",
    "\n",
    "        # Loop through all the Forecast datasets:\n",
    "        for ds in forecast_ds_list['Datasets']:\n",
    "            # Get the project name (the string after the first delimiter in the ARN)\n",
    "            ds_name = ds['DatasetArn'].split('/')[1]\n",
    "\n",
    "            # Once we find it, we store the ARN and break out of the loop:\n",
    "            if (ds_name == datasetName):\n",
    "                datasetArn = ds['DatasetArn']\n",
    "                break\n",
    "                \n",
    "    else:\n",
    "        raise\n",
    "        \n",
    "print(f'- Dataset name: {datasetName}')\n",
    "print(f'- Dataset ARN: {datasetArn}')"
   ]
  },
  {
   "cell_type": "code",
   "execution_count": 54,
   "id": "f2346fcc",
   "metadata": {},
   "outputs": [
    {
     "data": {
      "text/plain": [
       "{'DatasetArn': 'arn:aws:forecast:eu-west-1:800285456211:dataset/Hanoi_retail_forecast_ds',\n",
       " 'DatasetName': 'Hanoi_retail_forecast_ds',\n",
       " 'Domain': 'CUSTOM',\n",
       " 'DatasetType': 'TARGET_TIME_SERIES',\n",
       " 'DataFrequency': 'D',\n",
       " 'Schema': {'Attributes': [{'AttributeName': 'timestamp',\n",
       "    'AttributeType': 'timestamp'},\n",
       "   {'AttributeName': 'item_id', 'AttributeType': 'string'},\n",
       "   {'AttributeName': 'target_value', 'AttributeType': 'float'}]},\n",
       " 'EncryptionConfig': {},\n",
       " 'Status': 'ACTIVE',\n",
       " 'CreationTime': datetime.datetime(2021, 5, 12, 14, 28, 1, 132000, tzinfo=tzlocal()),\n",
       " 'LastModificationTime': datetime.datetime(2021, 5, 12, 14, 28, 1, 132000, tzinfo=tzlocal()),\n",
       " 'ResponseMetadata': {'RequestId': '2f594310-3a01-4e47-ae21-c856c0775d55',\n",
       "  'HTTPStatusCode': 200,\n",
       "  'HTTPHeaders': {'content-type': 'application/x-amz-json-1.1',\n",
       "   'date': 'Wed, 12 May 2021 14:28:29 GMT',\n",
       "   'x-amzn-requestid': '2f594310-3a01-4e47-ae21-c856c0775d55',\n",
       "   'content-length': '509',\n",
       "   'connection': 'keep-alive'},\n",
       "  'RetryAttempts': 0}}"
      ]
     },
     "execution_count": 54,
     "metadata": {},
     "output_type": "execute_result"
    }
   ],
   "source": [
    "forecast.describe_dataset(DatasetArn=datasetArn)"
   ]
  },
  {
   "cell_type": "code",
   "execution_count": 55,
   "id": "f5b1b3b2",
   "metadata": {},
   "outputs": [
    {
     "data": {
      "text/plain": [
       "{'ResponseMetadata': {'RequestId': '1d12445d-b671-405a-a557-5fc48e7d6d97',\n",
       "  'HTTPStatusCode': 200,\n",
       "  'HTTPHeaders': {'content-type': 'application/x-amz-json-1.1',\n",
       "   'date': 'Wed, 12 May 2021 14:28:36 GMT',\n",
       "   'x-amzn-requestid': '1d12445d-b671-405a-a557-5fc48e7d6d97',\n",
       "   'content-length': '2',\n",
       "   'connection': 'keep-alive'},\n",
       "  'RetryAttempts': 0}}"
      ]
     },
     "execution_count": 55,
     "metadata": {},
     "output_type": "execute_result"
    }
   ],
   "source": [
    "forecast.update_dataset_group(DatasetGroupArn=datasetGroupArn, DatasetArns=[datasetArn])"
   ]
  },
  {
   "cell_type": "code",
   "execution_count": 56,
   "id": "62a47118",
   "metadata": {},
   "outputs": [],
   "source": [
    "def get_or_create_iam_role(role_name):\n",
    "    iam = boto3.client(\"iam\")\n",
    "\n",
    "    assume_role_policy_document = {\n",
    "        \"Version\": \"2012-10-17\",\n",
    "        \"Statement\": [\n",
    "            {\n",
    "              \"Effect\": \"Allow\",\n",
    "              \"Principal\": {\n",
    "                \"Service\": \"forecast.amazonaws.com\"\n",
    "              },\n",
    "              \"Action\": \"sts:AssumeRole\"\n",
    "            }\n",
    "        ]\n",
    "    }\n",
    "\n",
    "    try:\n",
    "        create_role_response = iam.create_role(\n",
    "            RoleName = role_name,\n",
    "            AssumeRolePolicyDocument = json.dumps(assume_role_policy_document)\n",
    "        )\n",
    "        role_arn = create_role_response[\"Role\"][\"Arn\"]\n",
    "        print(\"Created\", role_arn)\n",
    "        \n",
    "    except iam.exceptions.EntityAlreadyExistsException:\n",
    "        print(\"The role \" + role_name + \" exists, ignore to create it\")\n",
    "        role_arn = boto3.resource('iam').Role(role_name).arn\n",
    "\n",
    "    print(\"Attaching policies\")\n",
    "\n",
    "    iam.attach_role_policy(\n",
    "        RoleName = role_name,\n",
    "        PolicyArn = \"arn:aws:iam::aws:policy/AmazonForecastFullAccess\"\n",
    "    )\n",
    "\n",
    "    iam.attach_role_policy(\n",
    "        RoleName=role_name,\n",
    "        PolicyArn='arn:aws:iam::aws:policy/AmazonS3FullAccess',\n",
    "    )\n",
    "\n",
    "    print(\"Waiting for a minute to allow IAM role policy attachment to propagate\")\n",
    "    time.sleep(60)\n",
    "\n",
    "    print(\"Done.\")\n",
    "    return role_arn"
   ]
  },
  {
   "cell_type": "code",
   "execution_count": 57,
   "id": "6ab9b319",
   "metadata": {},
   "outputs": [
    {
     "name": "stdout",
     "output_type": "stream",
     "text": [
      "The role ForecastNotebook-RetailPrediction exists, ignore to create it\n",
      "Attaching policies\n",
      "Waiting for a minute to allow IAM role policy attachment to propagate\n",
      "Done.\n"
     ]
    }
   ],
   "source": [
    "# Create the role to provide to Amazon Forecast.\n",
    "role_name = \"ForecastNotebook-RetailPrediction\"\n",
    "role_arn = get_or_create_iam_role(role_name=role_name)"
   ]
  },
  {
   "cell_type": "code",
   "execution_count": 58,
   "id": "1fb697be",
   "metadata": {},
   "outputs": [],
   "source": [
    "datasetImportJobName = 'Hanoi_retail_dataset_import_job'\n",
    "ds_import_job_response = forecast.create_dataset_import_job(\n",
    "    DatasetImportJobName=datasetImportJobName,\n",
    "    DatasetArn=datasetArn,\n",
    "    DataSource= {\n",
    "        \"S3Config\" : {\n",
    "            \"Path\": s3DataPath,\n",
    "            \"RoleArn\": role_arn\n",
    "        }\n",
    "    },\n",
    "    TimestampFormat=TIMESTAMP_FORMAT\n",
    ")"
   ]
  },
  {
   "cell_type": "code",
   "execution_count": 59,
   "id": "80249dcf",
   "metadata": {},
   "outputs": [
    {
     "name": "stdout",
     "output_type": "stream",
     "text": [
      "arn:aws:forecast:eu-west-1:800285456211:dataset-import-job/Hanoi_retail_forecast_ds/Hanoi_retail_dataset_import_job\n"
     ]
    }
   ],
   "source": [
    "ds_import_job_arn=ds_import_job_response['DatasetImportJobArn']\n",
    "print(ds_import_job_arn)"
   ]
  },
  {
   "cell_type": "code",
   "execution_count": 60,
   "id": "8b4a7a23",
   "metadata": {},
   "outputs": [
    {
     "name": "stdout",
     "output_type": "stream",
     "text": [
      "2021-05-12 14:30:44 | Data ingestion: CREATE_PENDING\n",
      "2021-05-12 14:31:45 | Data ingestion: CREATE_IN_PROGRESS\n",
      "2021-05-12 14:32:45 | Data ingestion: CREATE_IN_PROGRESS\n",
      "2021-05-12 14:33:45 | Data ingestion: CREATE_IN_PROGRESS\n",
      "2021-05-12 14:34:45 | Data ingestion: CREATE_IN_PROGRESS\n",
      "2021-05-12 14:35:45 | Data ingestion: CREATE_IN_PROGRESS\n",
      "2021-05-12 14:36:45 | Data ingestion: CREATE_IN_PROGRESS\n",
      "2021-05-12 14:37:45 | Data ingestion: CREATE_IN_PROGRESS\n",
      "2021-05-12 14:38:45 | Data ingestion: CREATE_IN_PROGRESS\n",
      "2021-05-12 14:39:45 | Data ingestion: CREATE_IN_PROGRESS\n",
      "2021-05-12 14:40:45 | Data ingestion: CREATE_IN_PROGRESS\n",
      "2021-05-12 14:41:45 | Data ingestion: CREATE_IN_PROGRESS\n",
      "2021-05-12 14:42:46 | Data ingestion: CREATE_IN_PROGRESS\n",
      "2021-05-12 14:43:46 | Data ingestion: CREATE_IN_PROGRESS\n",
      "2021-05-12 14:44:46 | Data ingestion: CREATE_IN_PROGRESS\n",
      "2021-05-12 14:45:46 | Data ingestion: CREATE_IN_PROGRESS\n",
      "2021-05-12 14:46:46 | Data ingestion: CREATE_IN_PROGRESS\n",
      "2021-05-12 14:47:46 | Data ingestion: CREATE_IN_PROGRESS\n",
      "2021-05-12 14:48:46 | Data ingestion: ACTIVE\n",
      "ACTIVE\n"
     ]
    }
   ],
   "source": [
    "while True:\n",
    "    status = forecast.describe_dataset_import_job(DatasetImportJobArn=ds_import_job_arn)['Status']\n",
    "    print(str(pd.to_datetime(datetime.now()))[:19], \"| Data ingestion:\", status)\n",
    "    \n",
    "    if status in ('ACTIVE', 'CREATE_FAILED'): break\n",
    "    time.sleep(60)\n",
    "\n",
    "print(status)"
   ]
  },
  {
   "cell_type": "code",
   "execution_count": 61,
   "id": "4ff8a9c6",
   "metadata": {},
   "outputs": [
    {
     "data": {
      "text/plain": [
       "{'DatasetImportJobName': 'Hanoi_retail_dataset_import_job',\n",
       " 'DatasetImportJobArn': 'arn:aws:forecast:eu-west-1:800285456211:dataset-import-job/Hanoi_retail_forecast_ds/Hanoi_retail_dataset_import_job',\n",
       " 'DatasetArn': 'arn:aws:forecast:eu-west-1:800285456211:dataset/Hanoi_retail_forecast_ds',\n",
       " 'TimestampFormat': 'yyyy-MM-dd',\n",
       " 'UseGeolocationForTimeZone': False,\n",
       " 'DataSource': {'S3Config': {'Path': 's3://sagemaker-eu-west-1-800285456211/Hanoi_retail/train.csv',\n",
       "   'RoleArn': 'arn:aws:iam::800285456211:role/ForecastNotebook-RetailPrediction'}},\n",
       " 'FieldStatistics': {'item_id': {'Count': 12212,\n",
       "   'CountDistinct': 15,\n",
       "   'CountNull': 0},\n",
       "  'target_value': {'Count': 12212,\n",
       "   'CountDistinct': 44,\n",
       "   'CountNull': 0,\n",
       "   'CountNan': 0,\n",
       "   'Min': '1.0',\n",
       "   'Max': '1390.0',\n",
       "   'Avg': 1.756550933508025,\n",
       "   'Stddev': 17.986180251417164},\n",
       "  'timestamp': {'Count': 12212,\n",
       "   'CountDistinct': 206,\n",
       "   'CountNull': 0,\n",
       "   'Min': '2019-01-01T00:00:00Z',\n",
       "   'Max': '2019-07-27T00:00:00Z'}},\n",
       " 'DataSize': 0.00022753700613975525,\n",
       " 'Status': 'ACTIVE',\n",
       " 'CreationTime': datetime.datetime(2021, 5, 12, 14, 30, 34, 60000, tzinfo=tzlocal()),\n",
       " 'LastModificationTime': datetime.datetime(2021, 5, 12, 14, 48, 10, 700000, tzinfo=tzlocal()),\n",
       " 'ResponseMetadata': {'RequestId': 'c9e67421-b3fa-4560-b08a-878e47831486',\n",
       "  'HTTPStatusCode': 200,\n",
       "  'HTTPHeaders': {'content-type': 'application/x-amz-json-1.1',\n",
       "   'date': 'Wed, 12 May 2021 14:51:13 GMT',\n",
       "   'x-amzn-requestid': 'c9e67421-b3fa-4560-b08a-878e47831486',\n",
       "   'content-length': '1196',\n",
       "   'connection': 'keep-alive'},\n",
       "  'RetryAttempts': 0}}"
      ]
     },
     "execution_count": 61,
     "metadata": {},
     "output_type": "execute_result"
    }
   ],
   "source": [
    "forecast.describe_dataset_import_job(DatasetImportJobArn=ds_import_job_arn)"
   ]
  },
  {
   "cell_type": "code",
   "execution_count": 62,
   "id": "2e290ede",
   "metadata": {},
   "outputs": [
    {
     "data": {
      "text/plain": [
       "15"
      ]
     },
     "execution_count": 62,
     "metadata": {},
     "output_type": "execute_result"
    }
   ],
   "source": [
    "len(training_df['item_id'].unique())"
   ]
  },
  {
   "cell_type": "code",
   "execution_count": 64,
   "id": "20f983e1",
   "metadata": {},
   "outputs": [],
   "source": [
    "predictorName= project + '_arima'\n",
    "forecastHorizon = 22\n",
    "algorithmArn = 'arn:aws:forecast:::algorithm/ARIMA'"
   ]
  },
  {
   "cell_type": "code",
   "execution_count": 65,
   "id": "aa4ae9d3",
   "metadata": {},
   "outputs": [
    {
     "name": "stdout",
     "output_type": "stream",
     "text": [
      "- Predictor name: Hanoi_retail_forecast_arima\n",
      "- Predictor ARN: arn:aws:forecast:eu-west-1:800285456211:predictor/Hanoi_retail_forecast_arima\n"
     ]
    }
   ],
   "source": [
    "try:\n",
    "    create_predictor_response = forecast.create_predictor(\n",
    "        PredictorName = predictorName, \n",
    "        AlgorithmArn = algorithmArn,\n",
    "        ForecastHorizon = forecastHorizon,\n",
    "        PerformAutoML = False,\n",
    "        PerformHPO = False,\n",
    "        EvaluationParameters= {\n",
    "            \"NumberOfBacktestWindows\": 1, \n",
    "            \"BackTestWindowOffset\": 24\n",
    "        }, \n",
    "        InputDataConfig = {\"DatasetGroupArn\": datasetGroupArn},\n",
    "        FeaturizationConfig = {\n",
    "            \"ForecastFrequency\": \"W\", \n",
    "            \"Featurizations\": [{\n",
    "                \"AttributeName\": \"target_value\", \n",
    "                \"FeaturizationPipeline\": [{\n",
    "                    \"FeaturizationMethodName\": \"filling\", \n",
    "                    \"FeaturizationMethodParameters\": {\n",
    "                        \"frontfill\": \"none\", \n",
    "                        \"middlefill\": \"zero\", \n",
    "                        \"backfill\": \"zero\"\n",
    "                    }\n",
    "                }]\n",
    "            }]\n",
    "        }\n",
    "    )\n",
    "\n",
    "    predictor_arn = create_predictor_response['PredictorArn']\n",
    "    \n",
    "except Exception as e:\n",
    "    error_code = e.response['Error']['Code']\n",
    "\n",
    "    # If the predictor already exists, we get its ARN:\n",
    "    if (error_code == 'ResourceAlreadyExistsException'):\n",
    "        print('A predictor with this name already exists, you can query it to check its status or request a forecast:')\n",
    "        \n",
    "        # List all the existing predictors:\n",
    "        forecast_pred_list = forecast.list_predictors()\n",
    "\n",
    "        # Loop through all the Forecast predictors:\n",
    "        for predictor in forecast_pred_list['Predictors']:\n",
    "            # Get the project name (the string after the first delimiter in the ARN)\n",
    "            predictor_name = predictor['PredictorArn'].split('/')[1]\n",
    "\n",
    "            # Once we find it, we store the ARN and break out of the loop:\n",
    "            if (predictor_name == predictorName):\n",
    "                predictor_arn = predictor['PredictorArn']\n",
    "                break\n",
    "                   \n",
    "    else:\n",
    "        raise\n",
    "        \n",
    "print(f'- Predictor name: {predictorName}')\n",
    "print(f'- Predictor ARN: {predictor_arn}')"
   ]
  },
  {
   "cell_type": "code",
   "execution_count": 66,
   "id": "a6bd18a4",
   "metadata": {},
   "outputs": [
    {
     "name": "stdout",
     "output_type": "stream",
     "text": [
      "2021-05-12 14:53:03 | Model training: CREATE_PENDING\n",
      "2021-05-12 14:54:03 | Model training: CREATE_IN_PROGRESS\n",
      "2021-05-12 14:55:03 | Model training: CREATE_IN_PROGRESS\n",
      "2021-05-12 14:56:03 | Model training: CREATE_IN_PROGRESS\n",
      "2021-05-12 14:57:03 | Model training: CREATE_IN_PROGRESS\n",
      "2021-05-12 14:58:04 | Model training: CREATE_IN_PROGRESS\n",
      "2021-05-12 14:59:04 | Model training: CREATE_IN_PROGRESS\n",
      "2021-05-12 15:00:04 | Model training: CREATE_IN_PROGRESS\n",
      "2021-05-12 15:01:04 | Model training: CREATE_IN_PROGRESS\n",
      "2021-05-12 15:02:04 | Model training: CREATE_IN_PROGRESS\n",
      "2021-05-12 15:03:04 | Model training: CREATE_IN_PROGRESS\n",
      "2021-05-12 15:04:04 | Model training: CREATE_IN_PROGRESS\n",
      "2021-05-12 15:05:04 | Model training: ACTIVE\n",
      "ACTIVE\n"
     ]
    }
   ],
   "source": [
    "while True:\n",
    "    status = forecast.describe_predictor(PredictorArn=predictor_arn)['Status']\n",
    "    print(str(pd.to_datetime(datetime.now()))[:19], \"| Model training:\", status)\n",
    "    \n",
    "    if status in ('ACTIVE', 'CREATE_FAILED'): break\n",
    "    time.sleep(60)\n",
    "\n",
    "print(status)"
   ]
  },
  {
   "cell_type": "code",
   "execution_count": 67,
   "id": "264b2f93",
   "metadata": {},
   "outputs": [
    {
     "data": {
      "text/plain": [
       "{'PredictorEvaluationResults': [{'AlgorithmArn': 'arn:aws:forecast:::algorithm/ARIMA',\n",
       "   'TestWindows': [{'EvaluationType': 'SUMMARY',\n",
       "     'Metrics': {'RMSE': 133.1655870299217,\n",
       "      'WeightedQuantileLosses': [{'Quantile': 0.9,\n",
       "        'LossValue': 0.7514790056270116},\n",
       "       {'Quantile': 0.5, 'LossValue': 1.5957938525538167},\n",
       "       {'Quantile': 0.1, 'LossValue': 0.33914930485405254}],\n",
       "      'ErrorMetrics': [{'ForecastType': 'mean',\n",
       "        'WAPE': 1.5957938525538167,\n",
       "        'RMSE': 133.1655870299217}]}},\n",
       "    {'TestWindowStart': datetime.datetime(2019, 2, 16, 0, 0, tzinfo=tzlocal()),\n",
       "     'TestWindowEnd': datetime.datetime(2019, 7, 20, 0, 0, tzinfo=tzlocal()),\n",
       "     'ItemCount': 15,\n",
       "     'EvaluationType': 'COMPUTED',\n",
       "     'Metrics': {'RMSE': 133.1655870299217,\n",
       "      'WeightedQuantileLosses': [{'Quantile': 0.9,\n",
       "        'LossValue': 0.7514790056270115},\n",
       "       {'Quantile': 0.5, 'LossValue': 1.5957938525538164},\n",
       "       {'Quantile': 0.1, 'LossValue': 0.33914930485405254}],\n",
       "      'ErrorMetrics': [{'ForecastType': 'mean',\n",
       "        'WAPE': 1.5957938525538164,\n",
       "        'RMSE': 133.1655870299217}]}}]}],\n",
       " 'ResponseMetadata': {'RequestId': 'c734431d-2a39-41f4-89aa-3ff483b78eb9',\n",
       "  'HTTPStatusCode': 200,\n",
       "  'HTTPHeaders': {'content-type': 'application/x-amz-json-1.1',\n",
       "   'date': 'Wed, 12 May 2021 15:06:11 GMT',\n",
       "   'x-amzn-requestid': 'c734431d-2a39-41f4-89aa-3ff483b78eb9',\n",
       "   'content-length': '836',\n",
       "   'connection': 'keep-alive'},\n",
       "  'RetryAttempts': 0}}"
      ]
     },
     "execution_count": 67,
     "metadata": {},
     "output_type": "execute_result"
    }
   ],
   "source": [
    "forecast.get_accuracy_metrics(PredictorArn=predictor_arn)"
   ]
  },
  {
   "cell_type": "code",
   "execution_count": 68,
   "id": "8c6751aa",
   "metadata": {},
   "outputs": [],
   "source": [
    "forecastName = project + '_arima_forecast'"
   ]
  },
  {
   "cell_type": "code",
   "execution_count": 69,
   "id": "13da8f68",
   "metadata": {},
   "outputs": [
    {
     "name": "stdout",
     "output_type": "stream",
     "text": [
      "- Forecast name: Hanoi_retail_forecast_arima_forecast\n",
      "- Forecast ARN: arn:aws:forecast:eu-west-1:800285456211:forecast/Hanoi_retail_forecast_arima_forecast\n"
     ]
    }
   ],
   "source": [
    "try:\n",
    "    create_forecast_response = forecast.create_forecast(\n",
    "        ForecastName=forecastName,\n",
    "        PredictorArn=predictor_arn\n",
    "    )\n",
    "    forecast_arn = create_forecast_response['ForecastArn']\n",
    "    \n",
    "except Exception as e:\n",
    "    error_code = e.response['Error']['Code']\n",
    "\n",
    "    # If the predictor already exists, we get its ARN:\n",
    "    if (error_code == 'ResourceAlreadyExistsException'):\n",
    "        print('A forecast with this name already exists, you can use it to obtain a prediction:')\n",
    "        \n",
    "        # List all the existing predictors:\n",
    "        forecast_fc_list = forecast.list_forecasts()\n",
    "\n",
    "        # Loop through all the Forecast forecasts:\n",
    "        for fc in forecast_fc_list['Forecasts']:\n",
    "            # Get the project name (the string after the first delimiter in the ARN)\n",
    "            fc_name = fc['ForecastArn'].split('/')[1]\n",
    "\n",
    "            # Once we find it, we store the ARN and break out of the loop:\n",
    "            if (fc_name == forecastName):\n",
    "                forecast_arn = fc['ForecastArn']\n",
    "                break\n",
    "                \n",
    "    else:\n",
    "        raise\n",
    "        \n",
    "print(f'- Forecast name: {forecastName}')\n",
    "print(f'- Forecast ARN: {forecast_arn}')"
   ]
  },
  {
   "cell_type": "code",
   "execution_count": 70,
   "id": "2220b83b",
   "metadata": {},
   "outputs": [
    {
     "name": "stdout",
     "output_type": "stream",
     "text": [
      "2021-05-12 15:06:38 | Forecast generation: CREATE_IN_PROGRESS\n",
      "2021-05-12 15:07:38 | Forecast generation: CREATE_IN_PROGRESS\n",
      "2021-05-12 15:08:38 | Forecast generation: CREATE_IN_PROGRESS\n",
      "2021-05-12 15:09:38 | Forecast generation: CREATE_IN_PROGRESS\n",
      "2021-05-12 15:10:38 | Forecast generation: CREATE_IN_PROGRESS\n",
      "2021-05-12 15:11:38 | Forecast generation: CREATE_IN_PROGRESS\n",
      "2021-05-12 15:12:38 | Forecast generation: CREATE_IN_PROGRESS\n",
      "2021-05-12 15:13:38 | Forecast generation: CREATE_IN_PROGRESS\n",
      "2021-05-12 15:14:38 | Forecast generation: CREATE_IN_PROGRESS\n",
      "2021-05-12 15:15:38 | Forecast generation: CREATE_IN_PROGRESS\n",
      "2021-05-12 15:16:38 | Forecast generation: ACTIVE\n",
      "ACTIVE\n"
     ]
    }
   ],
   "source": [
    "while True:\n",
    "    status = forecast.describe_forecast(ForecastArn=forecast_arn)['Status']\n",
    "    print(str(pd.to_datetime(datetime.now()))[:19], \"| Forecast generation:\", status)\n",
    "    \n",
    "    if status in ('ACTIVE', 'CREATE_FAILED'): break\n",
    "    time.sleep(60)\n",
    "\n",
    "print(status)"
   ]
  },
  {
   "cell_type": "code",
   "execution_count": 71,
   "id": "e4d89390",
   "metadata": {},
   "outputs": [
    {
     "name": "stdout",
     "output_type": "stream",
     "text": [
      "arn:aws:forecast:eu-west-1:800285456211:forecast/Hanoi_retail_forecast_arima_forecast\n",
      "\n",
      "{'Forecast': {'Predictions': {'p10': [{'Timestamp': '2019-07-29T00:00:00', 'Value': 49.127620697021484}, {'Timestamp': '2019-08-05T00:00:00', 'Value': 48.49508285522461}, {'Timestamp': '2019-08-12T00:00:00', 'Value': 47.87256622314453}, {'Timestamp': '2019-08-19T00:00:00', 'Value': 47.25960922241211}, {'Timestamp': '2019-08-26T00:00:00', 'Value': 46.65578079223633}, {'Timestamp': '2019-09-02T00:00:00', 'Value': 46.06068801879883}, {'Timestamp': '2019-09-09T00:00:00', 'Value': 45.47396469116211}, {'Timestamp': '2019-09-16T00:00:00', 'Value': 44.895259857177734}, {'Timestamp': '2019-09-23T00:00:00', 'Value': 44.32426071166992}, {'Timestamp': '2019-09-30T00:00:00', 'Value': 43.76066589355469}, {'Timestamp': '2019-10-07T00:00:00', 'Value': 43.204193115234375}, {'Timestamp': '2019-10-14T00:00:00', 'Value': 42.654579162597656}, {'Timestamp': '2019-10-21T00:00:00', 'Value': 42.111576080322266}, {'Timestamp': '2019-10-28T00:00:00', 'Value': 41.574951171875}, {'Timestamp': '2019-11-04T00:00:00', 'Value': 41.04448699951172}, {'Timestamp': '2019-11-11T00:00:00', 'Value': 40.51996994018555}, {'Timestamp': '2019-11-18T00:00:00', 'Value': 40.00121307373047}, {'Timestamp': '2019-11-25T00:00:00', 'Value': 39.4880256652832}, {'Timestamp': '2019-12-02T00:00:00', 'Value': 38.98023223876953}, {'Timestamp': '2019-12-09T00:00:00', 'Value': 38.47766876220703}, {'Timestamp': '2019-12-16T00:00:00', 'Value': 37.98017120361328}, {'Timestamp': '2019-12-23T00:00:00', 'Value': 37.48759460449219}], 'p50': [{'Timestamp': '2019-07-29T00:00:00', 'Value': 87.79722595214844}, {'Timestamp': '2019-08-05T00:00:00', 'Value': 87.79722595214844}, {'Timestamp': '2019-08-12T00:00:00', 'Value': 87.79722595214844}, {'Timestamp': '2019-08-19T00:00:00', 'Value': 87.79722595214844}, {'Timestamp': '2019-08-26T00:00:00', 'Value': 87.79722595214844}, {'Timestamp': '2019-09-02T00:00:00', 'Value': 87.79722595214844}, {'Timestamp': '2019-09-09T00:00:00', 'Value': 87.79722595214844}, {'Timestamp': '2019-09-16T00:00:00', 'Value': 87.79722595214844}, {'Timestamp': '2019-09-23T00:00:00', 'Value': 87.79722595214844}, {'Timestamp': '2019-09-30T00:00:00', 'Value': 87.79722595214844}, {'Timestamp': '2019-10-07T00:00:00', 'Value': 87.79722595214844}, {'Timestamp': '2019-10-14T00:00:00', 'Value': 87.79722595214844}, {'Timestamp': '2019-10-21T00:00:00', 'Value': 87.79722595214844}, {'Timestamp': '2019-10-28T00:00:00', 'Value': 87.79722595214844}, {'Timestamp': '2019-11-04T00:00:00', 'Value': 87.79722595214844}, {'Timestamp': '2019-11-11T00:00:00', 'Value': 87.79722595214844}, {'Timestamp': '2019-11-18T00:00:00', 'Value': 87.79722595214844}, {'Timestamp': '2019-11-25T00:00:00', 'Value': 87.79722595214844}, {'Timestamp': '2019-12-02T00:00:00', 'Value': 87.79722595214844}, {'Timestamp': '2019-12-09T00:00:00', 'Value': 87.79722595214844}, {'Timestamp': '2019-12-16T00:00:00', 'Value': 87.79722595214844}, {'Timestamp': '2019-12-23T00:00:00', 'Value': 87.79722595214844}], 'p90': [{'Timestamp': '2019-07-29T00:00:00', 'Value': 126.46683502197266}, {'Timestamp': '2019-08-05T00:00:00', 'Value': 127.099365234375}, {'Timestamp': '2019-08-12T00:00:00', 'Value': 127.72188568115234}, {'Timestamp': '2019-08-19T00:00:00', 'Value': 128.3348388671875}, {'Timestamp': '2019-08-26T00:00:00', 'Value': 128.9386749267578}, {'Timestamp': '2019-09-02T00:00:00', 'Value': 129.5337677001953}, {'Timestamp': '2019-09-09T00:00:00', 'Value': 130.1204833984375}, {'Timestamp': '2019-09-16T00:00:00', 'Value': 130.69918823242188}, {'Timestamp': '2019-09-23T00:00:00', 'Value': 131.2701873779297}, {'Timestamp': '2019-09-30T00:00:00', 'Value': 131.8337860107422}, {'Timestamp': '2019-10-07T00:00:00', 'Value': 132.3902587890625}, {'Timestamp': '2019-10-14T00:00:00', 'Value': 132.93988037109375}, {'Timestamp': '2019-10-21T00:00:00', 'Value': 133.48287963867188}, {'Timestamp': '2019-10-28T00:00:00', 'Value': 134.01950073242188}, {'Timestamp': '2019-11-04T00:00:00', 'Value': 134.5499725341797}, {'Timestamp': '2019-11-11T00:00:00', 'Value': 135.07447814941406}, {'Timestamp': '2019-11-18T00:00:00', 'Value': 135.59323120117188}, {'Timestamp': '2019-11-25T00:00:00', 'Value': 136.10643005371094}, {'Timestamp': '2019-12-02T00:00:00', 'Value': 136.61422729492188}, {'Timestamp': '2019-12-09T00:00:00', 'Value': 137.11679077148438}, {'Timestamp': '2019-12-16T00:00:00', 'Value': 137.61428833007812}, {'Timestamp': '2019-12-23T00:00:00', 'Value': 138.1068572998047}]}}, 'ResponseMetadata': {'RequestId': '49187c05-21e0-4f7f-93cd-a81d9db59519', 'HTTPStatusCode': 200, 'HTTPHeaders': {'content-type': 'application/x-amz-json-1.1', 'date': 'Wed, 12 May 2021 16:02:24 GMT', 'x-amzn-requestid': '49187c05-21e0-4f7f-93cd-a81d9db59519', 'content-length': '4159', 'connection': 'keep-alive'}, 'RetryAttempts': 0}}\n"
     ]
    }
   ],
   "source": [
    "shop_id = '495366'\n",
    "\n",
    "print(forecast_arn)\n",
    "print()\n",
    "forecastResponse = forecastquery.query_forecast(\n",
    "    ForecastArn=forecast_arn,\n",
    "    Filters={'item_id': shop_id}\n",
    ")\n",
    "print(forecastResponse)"
   ]
  },
  {
   "cell_type": "code",
   "execution_count": null,
   "id": "dcf3724f",
   "metadata": {},
   "outputs": [],
   "source": []
  }
 ],
 "metadata": {
  "kernelspec": {
   "display_name": "conda_python3",
   "language": "python",
   "name": "conda_python3"
  },
  "language_info": {
   "codemirror_mode": {
    "name": "ipython",
    "version": 3
   },
   "file_extension": ".py",
   "mimetype": "text/x-python",
   "name": "python",
   "nbconvert_exporter": "python",
   "pygments_lexer": "ipython3",
   "version": "3.6.13"
  }
 },
 "nbformat": 4,
 "nbformat_minor": 5
}
